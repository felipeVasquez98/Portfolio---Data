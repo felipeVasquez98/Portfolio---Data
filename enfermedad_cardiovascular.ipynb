{
 "cells": [
  {
   "cell_type": "markdown",
   "id": "90e80945",
   "metadata": {},
   "source": [
    "# 1. Librerías a implementar"
   ]
  },
  {
   "cell_type": "code",
   "execution_count": 1,
   "id": "1b6c773c",
   "metadata": {},
   "outputs": [],
   "source": [
    "# Librería para comando de sistema\n",
    "import os\n",
    "\n",
    "# Librerías para manejo de datos\n",
    "import pandas as pd\n",
    "import numpy as np\n",
    "\n",
    "# Librería para preparar los datos\n",
    "from sklearn.preprocessing import LabelEncoder\n",
    "# Para crear el árbol de decisión\n",
    "from sklearn.tree import DecisionTreeClassifier\n",
    "# Para realizar la separación del conjunto de aprendizaje en entrenamiento y test\n",
    "from sklearn.model_selection import train_test_split\n",
    "# Para evaluar el modelo\n",
    "from sklearn.metrics import accuracy_score\n",
    "# Para el reporte de rendimiento con métricas de clasificación\n",
    "from sklearn.metrics import confusion_matrix, classification_report, precision_score, recall_score, f1_score\n",
    "from sklearn.metrics import plot_confusion_matrix\n",
    "# Para búsqueda de hiperparámetros\n",
    "from sklearn.model_selection import GridSearchCV\n",
    "# Para la validación cruzada\n",
    "from sklearn.model_selection import KFold\n",
    "\n",
    "# Librerías para la visualización del árbol de decisión\n",
    "import matplotlib.pyplot as plt\n",
    "from sklearn import tree"
   ]
  },
  {
   "cell_type": "markdown",
   "id": "3e93f65f",
   "metadata": {},
   "source": [
    "# 2. Carga de los datos\n",
    "Se carga el set de datos que se encuentra disponible"
   ]
  },
  {
   "cell_type": "code",
   "execution_count": 2,
   "id": "a1487cbb",
   "metadata": {},
   "outputs": [],
   "source": [
    "# Se cargan los datos\n",
    "data = pd.read_excel('enfermedad_cardiovascular_data.xlsx', sheet_name='in')"
   ]
  },
  {
   "cell_type": "code",
   "execution_count": 3,
   "id": "e6bb82d9",
   "metadata": {},
   "outputs": [
    {
     "data": {
      "text/plain": [
       "(67976, 13)"
      ]
     },
     "execution_count": 3,
     "metadata": {},
     "output_type": "execute_result"
    }
   ],
   "source": [
    "# Cantidad de datos y variables\n",
    "data.shape"
   ]
  },
  {
   "cell_type": "code",
   "execution_count": 4,
   "id": "591e5495",
   "metadata": {},
   "outputs": [
    {
     "data": {
      "text/html": [
       "<div>\n",
       "<style scoped>\n",
       "    .dataframe tbody tr th:only-of-type {\n",
       "        vertical-align: middle;\n",
       "    }\n",
       "\n",
       "    .dataframe tbody tr th {\n",
       "        vertical-align: top;\n",
       "    }\n",
       "\n",
       "    .dataframe thead th {\n",
       "        text-align: right;\n",
       "    }\n",
       "</style>\n",
       "<table border=\"1\" class=\"dataframe\">\n",
       "  <thead>\n",
       "    <tr style=\"text-align: right;\">\n",
       "      <th></th>\n",
       "      <th>Id</th>\n",
       "      <th>Edad</th>\n",
       "      <th>Género</th>\n",
       "      <th>Altura</th>\n",
       "      <th>Peso</th>\n",
       "      <th>Presion sistólica</th>\n",
       "      <th>Presión diastólica</th>\n",
       "      <th>Colesterol</th>\n",
       "      <th>Glucosa</th>\n",
       "      <th>Fumador</th>\n",
       "      <th>Alcohol</th>\n",
       "      <th>Activo</th>\n",
       "      <th>ECV</th>\n",
       "    </tr>\n",
       "  </thead>\n",
       "  <tbody>\n",
       "    <tr>\n",
       "      <th>0</th>\n",
       "      <td>0</td>\n",
       "      <td>53</td>\n",
       "      <td>M</td>\n",
       "      <td>168</td>\n",
       "      <td>62.0</td>\n",
       "      <td>110</td>\n",
       "      <td>80</td>\n",
       "      <td>Normal</td>\n",
       "      <td>Normal</td>\n",
       "      <td>NO</td>\n",
       "      <td>NO</td>\n",
       "      <td>SI</td>\n",
       "      <td>NO</td>\n",
       "    </tr>\n",
       "    <tr>\n",
       "      <th>1</th>\n",
       "      <td>1</td>\n",
       "      <td>58</td>\n",
       "      <td>F</td>\n",
       "      <td>156</td>\n",
       "      <td>85.0</td>\n",
       "      <td>140</td>\n",
       "      <td>90</td>\n",
       "      <td>Muy elevado</td>\n",
       "      <td>Normal</td>\n",
       "      <td>NO</td>\n",
       "      <td>NO</td>\n",
       "      <td>SI</td>\n",
       "      <td>SI</td>\n",
       "    </tr>\n",
       "    <tr>\n",
       "      <th>2</th>\n",
       "      <td>2</td>\n",
       "      <td>54</td>\n",
       "      <td>F</td>\n",
       "      <td>165</td>\n",
       "      <td>64.0</td>\n",
       "      <td>130</td>\n",
       "      <td>70</td>\n",
       "      <td>Muy elevado</td>\n",
       "      <td>Normal</td>\n",
       "      <td>NO</td>\n",
       "      <td>NO</td>\n",
       "      <td>NO</td>\n",
       "      <td>SI</td>\n",
       "    </tr>\n",
       "    <tr>\n",
       "      <th>3</th>\n",
       "      <td>3</td>\n",
       "      <td>50</td>\n",
       "      <td>M</td>\n",
       "      <td>169</td>\n",
       "      <td>82.0</td>\n",
       "      <td>150</td>\n",
       "      <td>100</td>\n",
       "      <td>Normal</td>\n",
       "      <td>Normal</td>\n",
       "      <td>NO</td>\n",
       "      <td>NO</td>\n",
       "      <td>SI</td>\n",
       "      <td>SI</td>\n",
       "    </tr>\n",
       "    <tr>\n",
       "      <th>4</th>\n",
       "      <td>4</td>\n",
       "      <td>50</td>\n",
       "      <td>F</td>\n",
       "      <td>156</td>\n",
       "      <td>56.0</td>\n",
       "      <td>100</td>\n",
       "      <td>60</td>\n",
       "      <td>Normal</td>\n",
       "      <td>Normal</td>\n",
       "      <td>NO</td>\n",
       "      <td>NO</td>\n",
       "      <td>NO</td>\n",
       "      <td>NO</td>\n",
       "    </tr>\n",
       "  </tbody>\n",
       "</table>\n",
       "</div>"
      ],
      "text/plain": [
       "   Id  Edad Género  Altura  Peso  Presion sistólica  Presión diastólica  \\\n",
       "0   0    53      M     168  62.0                110                  80   \n",
       "1   1    58      F     156  85.0                140                  90   \n",
       "2   2    54      F     165  64.0                130                  70   \n",
       "3   3    50      M     169  82.0                150                 100   \n",
       "4   4    50      F     156  56.0                100                  60   \n",
       "\n",
       "    Colesterol Glucosa Fumador Alcohol Activo ECV  \n",
       "0       Normal  Normal      NO      NO     SI  NO  \n",
       "1  Muy elevado  Normal      NO      NO     SI  SI  \n",
       "2  Muy elevado  Normal      NO      NO     NO  SI  \n",
       "3       Normal  Normal      NO      NO     SI  SI  \n",
       "4       Normal  Normal      NO      NO     NO  NO  "
      ]
     },
     "execution_count": 4,
     "metadata": {},
     "output_type": "execute_result"
    }
   ],
   "source": [
    "# Mostrar los datos\n",
    "data.head()"
   ]
  },
  {
   "cell_type": "markdown",
   "id": "17532c19",
   "metadata": {},
   "source": [
    "# 3. Descripción de los datos\n",
    "Ahora es posible hacer una descripción más detallada de los datos disponibles. Se tiene en cuenta que esto es importante para poder determinar problemas de calidad en los datos. Asimismo, proporciona información que será útil en la fase de preparación de los datos."
   ]
  },
  {
   "cell_type": "code",
   "execution_count": 5,
   "id": "d28a5528",
   "metadata": {},
   "outputs": [
    {
     "data": {
      "text/html": [
       "<div>\n",
       "<style scoped>\n",
       "    .dataframe tbody tr th:only-of-type {\n",
       "        vertical-align: middle;\n",
       "    }\n",
       "\n",
       "    .dataframe tbody tr th {\n",
       "        vertical-align: top;\n",
       "    }\n",
       "\n",
       "    .dataframe thead th {\n",
       "        text-align: right;\n",
       "    }\n",
       "</style>\n",
       "<table border=\"1\" class=\"dataframe\">\n",
       "  <thead>\n",
       "    <tr style=\"text-align: right;\">\n",
       "      <th></th>\n",
       "      <th>Id</th>\n",
       "      <th>Edad</th>\n",
       "      <th>Altura</th>\n",
       "      <th>Peso</th>\n",
       "      <th>Presion sistólica</th>\n",
       "      <th>Presión diastólica</th>\n",
       "    </tr>\n",
       "  </thead>\n",
       "  <tbody>\n",
       "    <tr>\n",
       "      <th>count</th>\n",
       "      <td>67976.000000</td>\n",
       "      <td>67976.000000</td>\n",
       "      <td>67976.000000</td>\n",
       "      <td>67976.000000</td>\n",
       "      <td>67976.000000</td>\n",
       "      <td>67976.000000</td>\n",
       "    </tr>\n",
       "    <tr>\n",
       "      <th>mean</th>\n",
       "      <td>49954.764858</td>\n",
       "      <td>55.627913</td>\n",
       "      <td>164.555829</td>\n",
       "      <td>74.392564</td>\n",
       "      <td>126.731611</td>\n",
       "      <td>81.458794</td>\n",
       "    </tr>\n",
       "    <tr>\n",
       "      <th>std</th>\n",
       "      <td>28841.186196</td>\n",
       "      <td>7.047183</td>\n",
       "      <td>7.751991</td>\n",
       "      <td>14.032135</td>\n",
       "      <td>16.706251</td>\n",
       "      <td>9.624818</td>\n",
       "    </tr>\n",
       "    <tr>\n",
       "      <th>min</th>\n",
       "      <td>0.000000</td>\n",
       "      <td>31.000000</td>\n",
       "      <td>140.000000</td>\n",
       "      <td>48.000000</td>\n",
       "      <td>70.000000</td>\n",
       "      <td>50.000000</td>\n",
       "    </tr>\n",
       "    <tr>\n",
       "      <th>25%</th>\n",
       "      <td>24989.750000</td>\n",
       "      <td>50.000000</td>\n",
       "      <td>159.000000</td>\n",
       "      <td>65.000000</td>\n",
       "      <td>120.000000</td>\n",
       "      <td>80.000000</td>\n",
       "    </tr>\n",
       "    <tr>\n",
       "      <th>50%</th>\n",
       "      <td>49986.000000</td>\n",
       "      <td>56.000000</td>\n",
       "      <td>165.000000</td>\n",
       "      <td>72.000000</td>\n",
       "      <td>120.000000</td>\n",
       "      <td>80.000000</td>\n",
       "    </tr>\n",
       "    <tr>\n",
       "      <th>75%</th>\n",
       "      <td>74842.250000</td>\n",
       "      <td>61.000000</td>\n",
       "      <td>170.000000</td>\n",
       "      <td>82.000000</td>\n",
       "      <td>140.000000</td>\n",
       "      <td>90.000000</td>\n",
       "    </tr>\n",
       "    <tr>\n",
       "      <th>max</th>\n",
       "      <td>99999.000000</td>\n",
       "      <td>68.000000</td>\n",
       "      <td>198.000000</td>\n",
       "      <td>183.000000</td>\n",
       "      <td>240.000000</td>\n",
       "      <td>190.000000</td>\n",
       "    </tr>\n",
       "  </tbody>\n",
       "</table>\n",
       "</div>"
      ],
      "text/plain": [
       "                 Id          Edad        Altura          Peso  \\\n",
       "count  67976.000000  67976.000000  67976.000000  67976.000000   \n",
       "mean   49954.764858     55.627913    164.555829     74.392564   \n",
       "std    28841.186196      7.047183      7.751991     14.032135   \n",
       "min        0.000000     31.000000    140.000000     48.000000   \n",
       "25%    24989.750000     50.000000    159.000000     65.000000   \n",
       "50%    49986.000000     56.000000    165.000000     72.000000   \n",
       "75%    74842.250000     61.000000    170.000000     82.000000   \n",
       "max    99999.000000     68.000000    198.000000    183.000000   \n",
       "\n",
       "       Presion sistólica  Presión diastólica  \n",
       "count       67976.000000        67976.000000  \n",
       "mean          126.731611           81.458794  \n",
       "std            16.706251            9.624818  \n",
       "min            70.000000           50.000000  \n",
       "25%           120.000000           80.000000  \n",
       "50%           120.000000           80.000000  \n",
       "75%           140.000000           90.000000  \n",
       "max           240.000000          190.000000  "
      ]
     },
     "execution_count": 5,
     "metadata": {},
     "output_type": "execute_result"
    }
   ],
   "source": [
    "# Se realiza el perfilamiento de los datos. En este, se genera información de tipo descriptivo para cada una de las variables\n",
    "# numércias\n",
    "data.describe()"
   ]
  },
  {
   "cell_type": "code",
   "execution_count": 6,
   "id": "22f11e4c",
   "metadata": {},
   "outputs": [
    {
     "data": {
      "text/plain": [
       "F    44073\n",
       "M    23849\n",
       "Name: Género, dtype: int64"
      ]
     },
     "execution_count": 6,
     "metadata": {},
     "output_type": "execute_result"
    }
   ],
   "source": [
    "# Categorías que se presentan en la variable categórica \"Género\" y en qué proporción.\n",
    "pd.value_counts(data['Género'])"
   ]
  },
  {
   "cell_type": "code",
   "execution_count": 7,
   "id": "37c6a36d",
   "metadata": {},
   "outputs": [
    {
     "data": {
      "text/plain": [
       "Normal         50950\n",
       "Elevado         9197\n",
       "Muy elevado     7829\n",
       "Name: Colesterol, dtype: int64"
      ]
     },
     "execution_count": 7,
     "metadata": {},
     "output_type": "execute_result"
    }
   ],
   "source": [
    "# Categorías que se presentan en la variable categórica \"Colesterol\" y en qué proporción.\n",
    "pd.value_counts(data['Colesterol'])"
   ]
  },
  {
   "cell_type": "code",
   "execution_count": 8,
   "id": "49a06565",
   "metadata": {},
   "outputs": [
    {
     "data": {
      "text/plain": [
       "Normal         57759\n",
       "Muy elevado     5191\n",
       "Elevado         5026\n",
       "Name: Glucosa, dtype: int64"
      ]
     },
     "execution_count": 8,
     "metadata": {},
     "output_type": "execute_result"
    }
   ],
   "source": [
    "# Categorías que se presentan en la variable categórica \"Glucosa\" y en qué proporción.\n",
    "pd.value_counts(data['Glucosa'])"
   ]
  },
  {
   "cell_type": "code",
   "execution_count": 9,
   "id": "0695418d",
   "metadata": {},
   "outputs": [
    {
     "data": {
      "text/plain": [
       "NO    61959\n",
       "SI     6017\n",
       "Name: Fumador, dtype: int64"
      ]
     },
     "execution_count": 9,
     "metadata": {},
     "output_type": "execute_result"
    }
   ],
   "source": [
    "# Categorías que se presentan en la variable categórica \"Fumador\" y en qué proporción.\n",
    "pd.value_counts(data['Fumador'])"
   ]
  },
  {
   "cell_type": "code",
   "execution_count": 10,
   "id": "29e57879",
   "metadata": {},
   "outputs": [
    {
     "data": {
      "text/plain": [
       "NO    64314\n",
       "SI     3662\n",
       "Name: Alcohol, dtype: int64"
      ]
     },
     "execution_count": 10,
     "metadata": {},
     "output_type": "execute_result"
    }
   ],
   "source": [
    "# Categorías que se presentan en la variable categórica \"Alcohol\" y en qué proporción.\n",
    "pd.value_counts(data['Alcohol'])"
   ]
  },
  {
   "cell_type": "code",
   "execution_count": 11,
   "id": "3dfc3317",
   "metadata": {},
   "outputs": [
    {
     "data": {
      "text/plain": [
       "SI    54604\n",
       "NO    13372\n",
       "Name: Activo, dtype: int64"
      ]
     },
     "execution_count": 11,
     "metadata": {},
     "output_type": "execute_result"
    }
   ],
   "source": [
    "# Categorías que se presentan en la variable categórica \"Activo\" y en qué proporción.\n",
    "pd.value_counts(data['Activo'])"
   ]
  },
  {
   "cell_type": "markdown",
   "id": "e2bf4210",
   "metadata": {},
   "source": [
    "La variable objetivo es **\"ECV\"**, la cual indica si un paciente ha padecido de una accidente cardiovascular (SI) o no."
   ]
  },
  {
   "cell_type": "code",
   "execution_count": 12,
   "id": "7ce3be2f",
   "metadata": {},
   "outputs": [
    {
     "data": {
      "text/plain": [
       "NO    34190\n",
       "SI    33786\n",
       "Name: ECV, dtype: int64"
      ]
     },
     "execution_count": 12,
     "metadata": {},
     "output_type": "execute_result"
    }
   ],
   "source": [
    "# Categorías que se presentan en la variable categórica \"ECV\" y en qué proporción.\n",
    "pd.value_counts(data['ECV'])"
   ]
  },
  {
   "cell_type": "markdown",
   "id": "24f0000c",
   "metadata": {},
   "source": [
    "# 4. Limpieza y preparación de los datos"
   ]
  },
  {
   "cell_type": "code",
   "execution_count": 13,
   "id": "e6b2c953",
   "metadata": {},
   "outputs": [],
   "source": [
    "# Es recomendable que todos los pasos de preparación se realicen en otro dataframe\n",
    "df = data"
   ]
  },
  {
   "cell_type": "code",
   "execution_count": 14,
   "id": "431166e8",
   "metadata": {},
   "outputs": [
    {
     "data": {
      "text/plain": [
       "Id                    0.000000\n",
       "Edad                  0.000000\n",
       "Género                0.000794\n",
       "Altura                0.000000\n",
       "Peso                  0.000000\n",
       "Presion sistólica     0.000000\n",
       "Presión diastólica    0.000000\n",
       "Colesterol            0.000000\n",
       "Glucosa               0.000000\n",
       "Fumador               0.000000\n",
       "Alcohol               0.000000\n",
       "Activo                0.000000\n",
       "ECV                   0.000000\n",
       "dtype: float64"
      ]
     },
     "execution_count": 14,
     "metadata": {},
     "output_type": "execute_result"
    }
   ],
   "source": [
    "# Se visualiza los registros nulos a continuación:\n",
    "df.isna().sum()/len(df)"
   ]
  },
  {
   "cell_type": "markdown",
   "id": "2e0ca016",
   "metadata": {},
   "source": [
    "Teniendo en cuenta lo anterior observamos que hay registro nulos en la variable \"Género\""
   ]
  },
  {
   "cell_type": "code",
   "execution_count": 15,
   "id": "a0141474",
   "metadata": {},
   "outputs": [],
   "source": [
    "#Se elimina la columna \"id\"\n",
    "df = df.drop(['Id'], axis=1)\n",
    "\n",
    "# Se eliminan del dataframe aquellos registros nulos\n",
    "df = df.dropna()\n",
    "\n",
    "#Se explora el dataframe para saber si hay registros duplicados\n",
    "df = df.drop_duplicates()"
   ]
  },
  {
   "cell_type": "code",
   "execution_count": 16,
   "id": "3e8cfe35",
   "metadata": {},
   "outputs": [
    {
     "data": {
      "text/plain": [
       "(64517, 12)"
      ]
     },
     "execution_count": 16,
     "metadata": {},
     "output_type": "execute_result"
    }
   ],
   "source": [
    "df.shape"
   ]
  },
  {
   "cell_type": "markdown",
   "id": "17ab2ad6",
   "metadata": {},
   "source": [
    "Un aspecto muy importante para tener en cuenta son los requerimientos de entrada de los algoritmos de aprendizaje implementados en las librerías utilizadas. De forma particular, scikit-learn requiere que todos los atributos sean numéricos y que la variable objetivo, en una tarea de clasificación, esté codificada con números."
   ]
  },
  {
   "cell_type": "code",
   "execution_count": 17,
   "id": "b351c345",
   "metadata": {},
   "outputs": [],
   "source": [
    "# Transformación de las variables categóricas de entrada\n",
    "df = pd.get_dummies(df, columns=['Género', 'Colesterol', 'Glucosa', 'Fumador', 'Alcohol', 'Activo'])"
   ]
  },
  {
   "cell_type": "code",
   "execution_count": 18,
   "id": "2a52090c",
   "metadata": {},
   "outputs": [],
   "source": [
    "# Para hacer la transformación o codificación de la variable objetivo se usa la función LabelEncoder . Es importante tener en\n",
    "# cuenta que, aunque la representación de esta variable sea numérica, la tarea a resolver será una clasificación\n",
    "# Primero se debe generar el objeto\n",
    "codificacion = LabelEncoder()"
   ]
  },
  {
   "cell_type": "code",
   "execution_count": 19,
   "id": "1151340d",
   "metadata": {},
   "outputs": [
    {
     "data": {
      "text/plain": [
       "SI    32913\n",
       "NO    31604\n",
       "Name: ECV, dtype: int64"
      ]
     },
     "execution_count": 19,
     "metadata": {},
     "output_type": "execute_result"
    }
   ],
   "source": [
    "# se cuentan los registros para \"SI\" y \"NO\" de la variable objetivo \"ECV\" después de la limpieza de datos\n",
    "pd.value_counts(df['ECV'])"
   ]
  },
  {
   "cell_type": "code",
   "execution_count": 20,
   "id": "4af65d43",
   "metadata": {},
   "outputs": [],
   "source": [
    "# Ahora se ajusta a los datos\n",
    "df['ECV']=codificacion.fit_transform(df['ECV'])"
   ]
  },
  {
   "cell_type": "code",
   "execution_count": 21,
   "id": "877ef6b5",
   "metadata": {},
   "outputs": [
    {
     "data": {
      "text/plain": [
       "1    32913\n",
       "0    31604\n",
       "Name: ECV, dtype: int64"
      ]
     },
     "execution_count": 21,
     "metadata": {},
     "output_type": "execute_result"
    }
   ],
   "source": [
    "# Visualización de la clase. Se observa que ahora la categoría \"SI\" está codificada con un \"1\" y la clase \"NO\" con un \"0\"\n",
    "df['ECV'].value_counts()"
   ]
  },
  {
   "cell_type": "code",
   "execution_count": 22,
   "id": "783f1589",
   "metadata": {},
   "outputs": [
    {
     "data": {
      "text/html": [
       "<div>\n",
       "<style scoped>\n",
       "    .dataframe tbody tr th:only-of-type {\n",
       "        vertical-align: middle;\n",
       "    }\n",
       "\n",
       "    .dataframe tbody tr th {\n",
       "        vertical-align: top;\n",
       "    }\n",
       "\n",
       "    .dataframe thead th {\n",
       "        text-align: right;\n",
       "    }\n",
       "</style>\n",
       "<table border=\"1\" class=\"dataframe\">\n",
       "  <thead>\n",
       "    <tr style=\"text-align: right;\">\n",
       "      <th></th>\n",
       "      <th>Edad</th>\n",
       "      <th>Altura</th>\n",
       "      <th>Peso</th>\n",
       "      <th>Presion sistólica</th>\n",
       "      <th>Presión diastólica</th>\n",
       "      <th>ECV</th>\n",
       "      <th>Género_F</th>\n",
       "      <th>Género_M</th>\n",
       "      <th>Colesterol_Elevado</th>\n",
       "      <th>Colesterol_Muy elevado</th>\n",
       "      <th>Colesterol_Normal</th>\n",
       "      <th>Glucosa_Elevado</th>\n",
       "      <th>Glucosa_Muy elevado</th>\n",
       "      <th>Glucosa_Normal</th>\n",
       "      <th>Fumador_NO</th>\n",
       "      <th>Fumador_SI</th>\n",
       "      <th>Alcohol_NO</th>\n",
       "      <th>Alcohol_SI</th>\n",
       "      <th>Activo_NO</th>\n",
       "      <th>Activo_SI</th>\n",
       "    </tr>\n",
       "  </thead>\n",
       "  <tbody>\n",
       "    <tr>\n",
       "      <th>0</th>\n",
       "      <td>53</td>\n",
       "      <td>168</td>\n",
       "      <td>62.0</td>\n",
       "      <td>110</td>\n",
       "      <td>80</td>\n",
       "      <td>0</td>\n",
       "      <td>0</td>\n",
       "      <td>1</td>\n",
       "      <td>0</td>\n",
       "      <td>0</td>\n",
       "      <td>1</td>\n",
       "      <td>0</td>\n",
       "      <td>0</td>\n",
       "      <td>1</td>\n",
       "      <td>1</td>\n",
       "      <td>0</td>\n",
       "      <td>1</td>\n",
       "      <td>0</td>\n",
       "      <td>0</td>\n",
       "      <td>1</td>\n",
       "    </tr>\n",
       "    <tr>\n",
       "      <th>1</th>\n",
       "      <td>58</td>\n",
       "      <td>156</td>\n",
       "      <td>85.0</td>\n",
       "      <td>140</td>\n",
       "      <td>90</td>\n",
       "      <td>1</td>\n",
       "      <td>1</td>\n",
       "      <td>0</td>\n",
       "      <td>0</td>\n",
       "      <td>1</td>\n",
       "      <td>0</td>\n",
       "      <td>0</td>\n",
       "      <td>0</td>\n",
       "      <td>1</td>\n",
       "      <td>1</td>\n",
       "      <td>0</td>\n",
       "      <td>1</td>\n",
       "      <td>0</td>\n",
       "      <td>0</td>\n",
       "      <td>1</td>\n",
       "    </tr>\n",
       "    <tr>\n",
       "      <th>2</th>\n",
       "      <td>54</td>\n",
       "      <td>165</td>\n",
       "      <td>64.0</td>\n",
       "      <td>130</td>\n",
       "      <td>70</td>\n",
       "      <td>1</td>\n",
       "      <td>1</td>\n",
       "      <td>0</td>\n",
       "      <td>0</td>\n",
       "      <td>1</td>\n",
       "      <td>0</td>\n",
       "      <td>0</td>\n",
       "      <td>0</td>\n",
       "      <td>1</td>\n",
       "      <td>1</td>\n",
       "      <td>0</td>\n",
       "      <td>1</td>\n",
       "      <td>0</td>\n",
       "      <td>1</td>\n",
       "      <td>0</td>\n",
       "    </tr>\n",
       "    <tr>\n",
       "      <th>3</th>\n",
       "      <td>50</td>\n",
       "      <td>169</td>\n",
       "      <td>82.0</td>\n",
       "      <td>150</td>\n",
       "      <td>100</td>\n",
       "      <td>1</td>\n",
       "      <td>0</td>\n",
       "      <td>1</td>\n",
       "      <td>0</td>\n",
       "      <td>0</td>\n",
       "      <td>1</td>\n",
       "      <td>0</td>\n",
       "      <td>0</td>\n",
       "      <td>1</td>\n",
       "      <td>1</td>\n",
       "      <td>0</td>\n",
       "      <td>1</td>\n",
       "      <td>0</td>\n",
       "      <td>0</td>\n",
       "      <td>1</td>\n",
       "    </tr>\n",
       "    <tr>\n",
       "      <th>4</th>\n",
       "      <td>50</td>\n",
       "      <td>156</td>\n",
       "      <td>56.0</td>\n",
       "      <td>100</td>\n",
       "      <td>60</td>\n",
       "      <td>0</td>\n",
       "      <td>1</td>\n",
       "      <td>0</td>\n",
       "      <td>0</td>\n",
       "      <td>0</td>\n",
       "      <td>1</td>\n",
       "      <td>0</td>\n",
       "      <td>0</td>\n",
       "      <td>1</td>\n",
       "      <td>1</td>\n",
       "      <td>0</td>\n",
       "      <td>1</td>\n",
       "      <td>0</td>\n",
       "      <td>1</td>\n",
       "      <td>0</td>\n",
       "    </tr>\n",
       "  </tbody>\n",
       "</table>\n",
       "</div>"
      ],
      "text/plain": [
       "   Edad  Altura  Peso  Presion sistólica  Presión diastólica  ECV  Género_F  \\\n",
       "0    53     168  62.0                110                  80    0         0   \n",
       "1    58     156  85.0                140                  90    1         1   \n",
       "2    54     165  64.0                130                  70    1         1   \n",
       "3    50     169  82.0                150                 100    1         0   \n",
       "4    50     156  56.0                100                  60    0         1   \n",
       "\n",
       "   Género_M  Colesterol_Elevado  Colesterol_Muy elevado  Colesterol_Normal  \\\n",
       "0         1                   0                       0                  1   \n",
       "1         0                   0                       1                  0   \n",
       "2         0                   0                       1                  0   \n",
       "3         1                   0                       0                  1   \n",
       "4         0                   0                       0                  1   \n",
       "\n",
       "   Glucosa_Elevado  Glucosa_Muy elevado  Glucosa_Normal  Fumador_NO  \\\n",
       "0                0                    0               1           1   \n",
       "1                0                    0               1           1   \n",
       "2                0                    0               1           1   \n",
       "3                0                    0               1           1   \n",
       "4                0                    0               1           1   \n",
       "\n",
       "   Fumador_SI  Alcohol_NO  Alcohol_SI  Activo_NO  Activo_SI  \n",
       "0           0           1           0          0          1  \n",
       "1           0           1           0          0          1  \n",
       "2           0           1           0          1          0  \n",
       "3           0           1           0          0          1  \n",
       "4           0           1           0          1          0  "
      ]
     },
     "execution_count": 22,
     "metadata": {},
     "output_type": "execute_result"
    }
   ],
   "source": [
    "# Se visualiza como quedaron los datos\n",
    "df.head()"
   ]
  },
  {
   "cell_type": "code",
   "execution_count": 23,
   "id": "512b79f4",
   "metadata": {},
   "outputs": [
    {
     "data": {
      "text/plain": [
       "(64517, 20)"
      ]
     },
     "execution_count": 23,
     "metadata": {},
     "output_type": "execute_result"
    }
   ],
   "source": [
    "# Revisión total de registros actualizados\n",
    "df.shape"
   ]
  },
  {
   "cell_type": "markdown",
   "id": "c1133081",
   "metadata": {},
   "source": [
    "# 5. Construcción del modelo\n",
    "Los algoritmos supervisados implementados en scikit-learn requieren que las variables de entrada estén separadas de la variable objetivo."
   ]
  },
  {
   "cell_type": "code",
   "execution_count": 24,
   "id": "4146e846",
   "metadata": {},
   "outputs": [],
   "source": [
    "#S e selecciona la variable objetivo, en este caso \"ECV\"\n",
    "Y = df['ECV']\n",
    "# Del conjunto de datos se elimina la variable \"ECV\"\n",
    "X = df.drop(['ECV'], axis=1)"
   ]
  },
  {
   "cell_type": "code",
   "execution_count": 25,
   "id": "1748b337",
   "metadata": {},
   "outputs": [],
   "source": [
    "# Se realiza la divisón entrenamiento - test. Se deja el 20% de los datos para el test\n",
    "X_train, X_test, Y_train, Y_test = train_test_split(X, Y, test_size = 0.2 , random_state = 0)"
   ]
  },
  {
   "cell_type": "code",
   "execution_count": 26,
   "id": "076a1d1a",
   "metadata": {},
   "outputs": [
    {
     "data": {
      "text/html": [
       "<style>#sk-container-id-1 {color: black;background-color: white;}#sk-container-id-1 pre{padding: 0;}#sk-container-id-1 div.sk-toggleable {background-color: white;}#sk-container-id-1 label.sk-toggleable__label {cursor: pointer;display: block;width: 100%;margin-bottom: 0;padding: 0.3em;box-sizing: border-box;text-align: center;}#sk-container-id-1 label.sk-toggleable__label-arrow:before {content: \"▸\";float: left;margin-right: 0.25em;color: #696969;}#sk-container-id-1 label.sk-toggleable__label-arrow:hover:before {color: black;}#sk-container-id-1 div.sk-estimator:hover label.sk-toggleable__label-arrow:before {color: black;}#sk-container-id-1 div.sk-toggleable__content {max-height: 0;max-width: 0;overflow: hidden;text-align: left;background-color: #f0f8ff;}#sk-container-id-1 div.sk-toggleable__content pre {margin: 0.2em;color: black;border-radius: 0.25em;background-color: #f0f8ff;}#sk-container-id-1 input.sk-toggleable__control:checked~div.sk-toggleable__content {max-height: 200px;max-width: 100%;overflow: auto;}#sk-container-id-1 input.sk-toggleable__control:checked~label.sk-toggleable__label-arrow:before {content: \"▾\";}#sk-container-id-1 div.sk-estimator input.sk-toggleable__control:checked~label.sk-toggleable__label {background-color: #d4ebff;}#sk-container-id-1 div.sk-label input.sk-toggleable__control:checked~label.sk-toggleable__label {background-color: #d4ebff;}#sk-container-id-1 input.sk-hidden--visually {border: 0;clip: rect(1px 1px 1px 1px);clip: rect(1px, 1px, 1px, 1px);height: 1px;margin: -1px;overflow: hidden;padding: 0;position: absolute;width: 1px;}#sk-container-id-1 div.sk-estimator {font-family: monospace;background-color: #f0f8ff;border: 1px dotted black;border-radius: 0.25em;box-sizing: border-box;margin-bottom: 0.5em;}#sk-container-id-1 div.sk-estimator:hover {background-color: #d4ebff;}#sk-container-id-1 div.sk-parallel-item::after {content: \"\";width: 100%;border-bottom: 1px solid gray;flex-grow: 1;}#sk-container-id-1 div.sk-label:hover label.sk-toggleable__label {background-color: #d4ebff;}#sk-container-id-1 div.sk-serial::before {content: \"\";position: absolute;border-left: 1px solid gray;box-sizing: border-box;top: 0;bottom: 0;left: 50%;z-index: 0;}#sk-container-id-1 div.sk-serial {display: flex;flex-direction: column;align-items: center;background-color: white;padding-right: 0.2em;padding-left: 0.2em;position: relative;}#sk-container-id-1 div.sk-item {position: relative;z-index: 1;}#sk-container-id-1 div.sk-parallel {display: flex;align-items: stretch;justify-content: center;background-color: white;position: relative;}#sk-container-id-1 div.sk-item::before, #sk-container-id-1 div.sk-parallel-item::before {content: \"\";position: absolute;border-left: 1px solid gray;box-sizing: border-box;top: 0;bottom: 0;left: 50%;z-index: -1;}#sk-container-id-1 div.sk-parallel-item {display: flex;flex-direction: column;z-index: 1;position: relative;background-color: white;}#sk-container-id-1 div.sk-parallel-item:first-child::after {align-self: flex-end;width: 50%;}#sk-container-id-1 div.sk-parallel-item:last-child::after {align-self: flex-start;width: 50%;}#sk-container-id-1 div.sk-parallel-item:only-child::after {width: 0;}#sk-container-id-1 div.sk-dashed-wrapped {border: 1px dashed gray;margin: 0 0.4em 0.5em 0.4em;box-sizing: border-box;padding-bottom: 0.4em;background-color: white;}#sk-container-id-1 div.sk-label label {font-family: monospace;font-weight: bold;display: inline-block;line-height: 1.2em;}#sk-container-id-1 div.sk-label-container {text-align: center;}#sk-container-id-1 div.sk-container {/* jupyter's `normalize.less` sets `[hidden] { display: none; }` but bootstrap.min.css set `[hidden] { display: none !important; }` so we also need the `!important` here to be able to override the default hidden behavior on the sphinx rendered scikit-learn.org. See: https://github.com/scikit-learn/scikit-learn/issues/21755 */display: inline-block !important;position: relative;}#sk-container-id-1 div.sk-text-repr-fallback {display: none;}</style><div id=\"sk-container-id-1\" class=\"sk-top-container\"><div class=\"sk-text-repr-fallback\"><pre>DecisionTreeClassifier(criterion=&#x27;entropy&#x27;, random_state=0)</pre><b>In a Jupyter environment, please rerun this cell to show the HTML representation or trust the notebook. <br />On GitHub, the HTML representation is unable to render, please try loading this page with nbviewer.org.</b></div><div class=\"sk-container\" hidden><div class=\"sk-item\"><div class=\"sk-estimator sk-toggleable\"><input class=\"sk-toggleable__control sk-hidden--visually\" id=\"sk-estimator-id-1\" type=\"checkbox\" checked><label for=\"sk-estimator-id-1\" class=\"sk-toggleable__label sk-toggleable__label-arrow\">DecisionTreeClassifier</label><div class=\"sk-toggleable__content\"><pre>DecisionTreeClassifier(criterion=&#x27;entropy&#x27;, random_state=0)</pre></div></div></div></div></div>"
      ],
      "text/plain": [
       "DecisionTreeClassifier(criterion='entropy', random_state=0)"
      ]
     },
     "execution_count": 26,
     "metadata": {},
     "output_type": "execute_result"
    }
   ],
   "source": [
    "# Creación del objeto de árbol de decisión. Se usa como criterio de pureza la entropía.\n",
    "arbol = DecisionTreeClassifier(criterion='entropy', random_state = 0)\n",
    "arbol"
   ]
  },
  {
   "cell_type": "code",
   "execution_count": 27,
   "id": "c500bed9",
   "metadata": {},
   "outputs": [],
   "source": [
    "# Entrenamiento del modelo de árbol de decisión con los datos de entrenamiento.\n",
    "arbol = arbol.fit(X_train, Y_train)"
   ]
  },
  {
   "cell_type": "code",
   "execution_count": 28,
   "id": "b4814b91",
   "metadata": {},
   "outputs": [
    {
     "name": "stdout",
     "output_type": "stream",
     "text": [
      "Exactitud: 0.62\n"
     ]
    }
   ],
   "source": [
    "# Se puede determinar la exactitud del modelo sobre los datos del test, para así determinar su rendimiento de generalización\n",
    "y_pred = arbol.predict(X_test)\n",
    "print('Exactitud: %.2f' % accuracy_score(Y_test, y_pred))"
   ]
  },
  {
   "cell_type": "markdown",
   "id": "e132e2f4",
   "metadata": {},
   "source": [
    "# 6. Interpretación del modelo\n",
    "Se puede determinar cuáles atributos son los más importantes a partir del modelo generado. Es importante recordar que estos algoritmos realizan una selección en cada paso de construcción del árbol con base en la medida de pureza"
   ]
  },
  {
   "cell_type": "code",
   "execution_count": 29,
   "id": "1310070e",
   "metadata": {},
   "outputs": [
    {
     "data": {
      "text/plain": [
       "array([0.16043452, 0.21163937, 0.24213481, 0.19081791, 0.05181254,\n",
       "       0.01434581, 0.01431648, 0.00826666, 0.01545881, 0.01355983,\n",
       "       0.00857961, 0.00729167, 0.01085538, 0.0073804 , 0.00820477,\n",
       "       0.005058  , 0.00492198, 0.01273248, 0.01218898])"
      ]
     },
     "execution_count": 29,
     "metadata": {},
     "output_type": "execute_result"
    }
   ],
   "source": [
    "# Obtener la importancia de las variables. Para esto se puede usar uno de los atributos del modelo \"feature_importances_\", el\n",
    "# cual nos devuelve un coeficiente o peso para cada atributo: mientra más grande sea este más importante será la variable\n",
    "# asociada.\n",
    "importancia = arbol.feature_importances_\n",
    "importancia"
   ]
  },
  {
   "cell_type": "markdown",
   "id": "b18532d9",
   "metadata": {},
   "source": [
    "También se pueden organizar y tabular estos coeficientes para facilitar la interpretación."
   ]
  },
  {
   "cell_type": "code",
   "execution_count": 30,
   "id": "2a561b96",
   "metadata": {},
   "outputs": [
    {
     "data": {
      "text/html": [
       "<div>\n",
       "<style scoped>\n",
       "    .dataframe tbody tr th:only-of-type {\n",
       "        vertical-align: middle;\n",
       "    }\n",
       "\n",
       "    .dataframe tbody tr th {\n",
       "        vertical-align: top;\n",
       "    }\n",
       "\n",
       "    .dataframe thead th {\n",
       "        text-align: right;\n",
       "    }\n",
       "</style>\n",
       "<table border=\"1\" class=\"dataframe\">\n",
       "  <thead>\n",
       "    <tr style=\"text-align: right;\">\n",
       "      <th></th>\n",
       "      <th>Atributo</th>\n",
       "      <th>Importancia</th>\n",
       "    </tr>\n",
       "  </thead>\n",
       "  <tbody>\n",
       "    <tr>\n",
       "      <th>0</th>\n",
       "      <td>Peso</td>\n",
       "      <td>0.242135</td>\n",
       "    </tr>\n",
       "    <tr>\n",
       "      <th>1</th>\n",
       "      <td>Altura</td>\n",
       "      <td>0.211639</td>\n",
       "    </tr>\n",
       "    <tr>\n",
       "      <th>2</th>\n",
       "      <td>Presion sistólica</td>\n",
       "      <td>0.190818</td>\n",
       "    </tr>\n",
       "    <tr>\n",
       "      <th>3</th>\n",
       "      <td>Edad</td>\n",
       "      <td>0.160435</td>\n",
       "    </tr>\n",
       "    <tr>\n",
       "      <th>4</th>\n",
       "      <td>Presión diastólica</td>\n",
       "      <td>0.051813</td>\n",
       "    </tr>\n",
       "    <tr>\n",
       "      <th>5</th>\n",
       "      <td>Colesterol_Muy elevado</td>\n",
       "      <td>0.015459</td>\n",
       "    </tr>\n",
       "    <tr>\n",
       "      <th>6</th>\n",
       "      <td>Género_F</td>\n",
       "      <td>0.014346</td>\n",
       "    </tr>\n",
       "    <tr>\n",
       "      <th>7</th>\n",
       "      <td>Género_M</td>\n",
       "      <td>0.014316</td>\n",
       "    </tr>\n",
       "    <tr>\n",
       "      <th>8</th>\n",
       "      <td>Colesterol_Normal</td>\n",
       "      <td>0.013560</td>\n",
       "    </tr>\n",
       "    <tr>\n",
       "      <th>9</th>\n",
       "      <td>Activo_NO</td>\n",
       "      <td>0.012732</td>\n",
       "    </tr>\n",
       "    <tr>\n",
       "      <th>10</th>\n",
       "      <td>Activo_SI</td>\n",
       "      <td>0.012189</td>\n",
       "    </tr>\n",
       "    <tr>\n",
       "      <th>11</th>\n",
       "      <td>Glucosa_Normal</td>\n",
       "      <td>0.010855</td>\n",
       "    </tr>\n",
       "    <tr>\n",
       "      <th>12</th>\n",
       "      <td>Glucosa_Elevado</td>\n",
       "      <td>0.008580</td>\n",
       "    </tr>\n",
       "    <tr>\n",
       "      <th>13</th>\n",
       "      <td>Colesterol_Elevado</td>\n",
       "      <td>0.008267</td>\n",
       "    </tr>\n",
       "    <tr>\n",
       "      <th>14</th>\n",
       "      <td>Fumador_SI</td>\n",
       "      <td>0.008205</td>\n",
       "    </tr>\n",
       "    <tr>\n",
       "      <th>15</th>\n",
       "      <td>Fumador_NO</td>\n",
       "      <td>0.007380</td>\n",
       "    </tr>\n",
       "    <tr>\n",
       "      <th>16</th>\n",
       "      <td>Glucosa_Muy elevado</td>\n",
       "      <td>0.007292</td>\n",
       "    </tr>\n",
       "    <tr>\n",
       "      <th>17</th>\n",
       "      <td>Alcohol_NO</td>\n",
       "      <td>0.005058</td>\n",
       "    </tr>\n",
       "    <tr>\n",
       "      <th>18</th>\n",
       "      <td>Alcohol_SI</td>\n",
       "      <td>0.004922</td>\n",
       "    </tr>\n",
       "  </tbody>\n",
       "</table>\n",
       "</div>"
      ],
      "text/plain": [
       "                  Atributo  Importancia\n",
       "0                     Peso     0.242135\n",
       "1                   Altura     0.211639\n",
       "2        Presion sistólica     0.190818\n",
       "3                     Edad     0.160435\n",
       "4       Presión diastólica     0.051813\n",
       "5   Colesterol_Muy elevado     0.015459\n",
       "6                 Género_F     0.014346\n",
       "7                 Género_M     0.014316\n",
       "8        Colesterol_Normal     0.013560\n",
       "9                Activo_NO     0.012732\n",
       "10               Activo_SI     0.012189\n",
       "11          Glucosa_Normal     0.010855\n",
       "12         Glucosa_Elevado     0.008580\n",
       "13      Colesterol_Elevado     0.008267\n",
       "14              Fumador_SI     0.008205\n",
       "15              Fumador_NO     0.007380\n",
       "16     Glucosa_Muy elevado     0.007292\n",
       "17              Alcohol_NO     0.005058\n",
       "18              Alcohol_SI     0.004922"
      ]
     },
     "execution_count": 30,
     "metadata": {},
     "output_type": "execute_result"
    }
   ],
   "source": [
    "importancia_atributo = pd.DataFrame(data={'Atributo': X_train.columns, 'Importancia': importancia})\n",
    "importancia_atributo = importancia_atributo.sort_values(by='Importancia', ascending=False).reset_index(drop=True)\n",
    "importancia_atributo"
   ]
  },
  {
   "cell_type": "markdown",
   "id": "f683f5bf",
   "metadata": {},
   "source": [
    "Ahora se procede a graficar el modelo. Por propósitos de visualización y requerimiento se limita la profundidad del árbol a 3."
   ]
  },
  {
   "cell_type": "code",
   "execution_count": 31,
   "id": "991767de",
   "metadata": {},
   "outputs": [
    {
     "data": {
      "image/png": "[encoded data removed]",
      "text/plain": [
       "<Figure size 1800x720 with 1 Axes>"
      ]
     },
     "metadata": {
      "needs_background": "light"
     },
     "output_type": "display_data"
    }
   ],
   "source": [
    "fig = plt.figure(figsize=(25,10))\n",
    "_ = tree.plot_tree(arbol, max_depth=3, feature_names=X.columns, class_names=[\"0\", \"1\"], filled=True, fontsize=9)"
   ]
  },
  {
   "cell_type": "code",
   "execution_count": 32,
   "id": "4e9e2e43",
   "metadata": {},
   "outputs": [],
   "source": [
    "# Se guarda esta figura como una imagen\n",
    "fig.savefig(\"decision_tree.png\")"
   ]
  },
  {
   "cell_type": "markdown",
   "id": "cb1c4056",
   "metadata": {},
   "source": [
    "# 7. Búsqueda de hiperparámetros y evaluación."
   ]
  },
  {
   "cell_type": "code",
   "execution_count": 33,
   "id": "ca5e7e18",
   "metadata": {},
   "outputs": [
    {
     "data": {
      "text/plain": [
       "array([[3785, 2459],\n",
       "       [2475, 4185]], dtype=int64)"
      ]
     },
     "execution_count": 33,
     "metadata": {},
     "output_type": "execute_result"
    }
   ],
   "source": [
    "# Se genera la matriz de confusión\n",
    "confusion_matrix(Y_test, y_pred)"
   ]
  },
  {
   "cell_type": "code",
   "execution_count": 34,
   "id": "1694982f",
   "metadata": {},
   "outputs": [
    {
     "name": "stderr",
     "output_type": "stream",
     "text": [
      "C:\\Users\\felip\\anaconda3\\lib\\site-packages\\sklearn\\utils\\deprecation.py:87: FutureWarning: Function plot_confusion_matrix is deprecated; Function `plot_confusion_matrix` is deprecated in 1.0 and will be removed in 1.2. Use one of the class methods: ConfusionMatrixDisplay.from_predictions or ConfusionMatrixDisplay.from_estimator.\n",
      "  warnings.warn(msg, category=FutureWarning)\n"
     ]
    },
    {
     "data": {
      "image/png": "[encoded data removed]",
      "text/plain": [
       "<Figure size 432x288 with 2 Axes>"
      ]
     },
     "metadata": {
      "needs_background": "light"
     },
     "output_type": "display_data"
    }
   ],
   "source": [
    "# Se visualiza la matriz de confusión\n",
    "plot_confusion_matrix(arbol, X_test, Y_test)\n",
    "plt.show()"
   ]
  },
  {
   "cell_type": "markdown",
   "id": "e5f25a0d",
   "metadata": {},
   "source": [
    "De igual manera, es posible generar diferentes métricas de rendimiento, como el recall, la precisión y la puntuación F1."
   ]
  },
  {
   "cell_type": "code",
   "execution_count": 35,
   "id": "f789eab3",
   "metadata": {},
   "outputs": [
    {
     "name": "stdout",
     "output_type": "stream",
     "text": [
      "Exactitud: 0.62\n",
      "Precisión: 0.6298916315472607\n",
      "Recall: 0.6283783783783784\n",
      "Puntuación F1: 0.6291340950090198\n"
     ]
    }
   ],
   "source": [
    "print('Exactitud: %.2f' % accuracy_score(Y_test, y_pred))\n",
    "print('Precisión: {}'.format(precision_score(Y_test, y_pred)))\n",
    "print('Recall: {}'.format(recall_score(Y_test, y_pred)))\n",
    "print('Puntuación F1: {}'.format(f1_score(Y_test, y_pred)))"
   ]
  },
  {
   "cell_type": "markdown",
   "id": "c6613335",
   "metadata": {},
   "source": [
    "Para tener un panorama más completo podemos generar un reporte."
   ]
  },
  {
   "cell_type": "code",
   "execution_count": 36,
   "id": "8c7aa44a",
   "metadata": {},
   "outputs": [
    {
     "name": "stdout",
     "output_type": "stream",
     "text": [
      "              precision    recall  f1-score   support\n",
      "\n",
      "           0       0.60      0.61      0.61      6244\n",
      "           1       0.63      0.63      0.63      6660\n",
      "\n",
      "    accuracy                           0.62     12904\n",
      "   macro avg       0.62      0.62      0.62     12904\n",
      "weighted avg       0.62      0.62      0.62     12904\n",
      "\n"
     ]
    }
   ],
   "source": [
    "# Mostrar reporte de clasificación\n",
    "print(classification_report(Y_test, y_pred))"
   ]
  },
  {
   "cell_type": "markdown",
   "id": "6fe5ae6d",
   "metadata": {},
   "source": [
    "Se puede apreciar que la medida global ofrece un rendimiento de 62% de clasificaciones correctas y que esta se ve reflejada tanto en la clase mayoritaria como minoritaria (ECV=1 y ECV=0). Esto se debe al balance entre clases.\n",
    "\n",
    "Sin embargo, se podría presentar un desbalance entre clases en un conjunto debido a distintas razones, algunas de ellas relacionadas con la naturaleza del problema, donde este desbalance es el resultado directo de las características de la población que genera los datos o el costo y/o dificultad en la obtención de datos de clase de interés.\n",
    "\n",
    "En estos escenarios es importante obtener modelos que exhiban un buen rendimiento de predicción sobre la clase minoritaria ya que esta, por lo general, representa el objetivo o target de la tarea de clasificación. Sin embargo, los algoritmos de aprendizaje tradicionales tenderán a producir una solución que sólo tendrá un buen desempeño sobre la clase mayoritaria. Esto se debe a que están diseñados para inducir un modelo de clasificación basado en el error que comete sobre todo el conjunto de entrenamiento, sin tomar en cuenta la representatividad o balance de las clases.\n",
    "\n",
    "Para resolver este problema se han propuesto diversas estrategias como el remuestreo del conjunto de datos o la construcción de clasificadores que tomen en cuenta el costo de los errores sobre las diferentes clases. En particular, para árboles de decisión, scikit-learn ofrece la posibilidad de indicarle al algoritmo que maneje el desbalance internamente con el parámetro **\"class_weight\"**. Como no se presenta un desbalance entre clases, a continuación se procede a construir el modelo con búsqueda de hiperparámetros:"
   ]
  },
  {
   "cell_type": "markdown",
   "id": "9fb42fbd",
   "metadata": {},
   "source": [
    "# 8. Construcción del modelo con búsqueda de hiperparámetros\n",
    "En el caso de los árboles de decisión los hiperparámetros principales que hay que ajustar están relacionados con aquellos que controlan la complejidad, pero también el criterio o medida de pureza puede afectar su rendimiento. En general, estos son:\n",
    "\n",
    "* **Criterion:** {\"gini\", \"entropy\"}, predeterminado=\"gini\"\n",
    "\n",
    "La función para medir la calidad de una división. Los criterios admitidos son \"gini\" y \"entropy\".\n",
    "\n",
    "* **max_depth:** int, predeterminado=None\n",
    "\n",
    "La profundidad máxima de árbol. Si es None, los nodos se expanden hasta que todas las hojas sean puras o hasta que todas las hojas contengan menos de min_sample_split muestras.\n",
    "\n",
    "* **min_sample_split:** int or float, predeterminado=2\n",
    "\n",
    "El número mínimo de muestras necesarias para dividir un nodo interno.\n",
    "\n",
    "Para determinar los mejores valores de estos hiperparámetros se realiza la búsqueda a través de la función GridSearchCV."
   ]
  },
  {
   "cell_type": "code",
   "execution_count": 37,
   "id": "0b5f1076",
   "metadata": {},
   "outputs": [],
   "source": [
    "# Se fija el número de particiones. Se usa K = 10.\n",
    "particiones = KFold(n_splits=10, shuffle=True, random_state = 0)"
   ]
  },
  {
   "cell_type": "code",
   "execution_count": 38,
   "id": "ac7b8cd8",
   "metadata": {},
   "outputs": [],
   "source": [
    "# Se establece el espacio de búsqueda para los hiperparámetros que se desean ajustar.\n",
    "param_grid = {'criterion':['gini', 'entropy'], 'max_depth':[4,6,8,10]}"
   ]
  },
  {
   "cell_type": "code",
   "execution_count": 39,
   "id": "5e58b61a",
   "metadata": {},
   "outputs": [],
   "source": [
    "# Definimos el modelo sin ningún valor de estos hiperparáemtros\n",
    "arbol = DecisionTreeClassifier(random_state = 0)"
   ]
  },
  {
   "cell_type": "code",
   "execution_count": 40,
   "id": "c50be08c",
   "metadata": {},
   "outputs": [
    {
     "data": {
      "text/html": [
       "<style>#sk-container-id-2 {color: black;background-color: white;}#sk-container-id-2 pre{padding: 0;}#sk-container-id-2 div.sk-toggleable {background-color: white;}#sk-container-id-2 label.sk-toggleable__label {cursor: pointer;display: block;width: 100%;margin-bottom: 0;padding: 0.3em;box-sizing: border-box;text-align: center;}#sk-container-id-2 label.sk-toggleable__label-arrow:before {content: \"▸\";float: left;margin-right: 0.25em;color: #696969;}#sk-container-id-2 label.sk-toggleable__label-arrow:hover:before {color: black;}#sk-container-id-2 div.sk-estimator:hover label.sk-toggleable__label-arrow:before {color: black;}#sk-container-id-2 div.sk-toggleable__content {max-height: 0;max-width: 0;overflow: hidden;text-align: left;background-color: #f0f8ff;}#sk-container-id-2 div.sk-toggleable__content pre {margin: 0.2em;color: black;border-radius: 0.25em;background-color: #f0f8ff;}#sk-container-id-2 input.sk-toggleable__control:checked~div.sk-toggleable__content {max-height: 200px;max-width: 100%;overflow: auto;}#sk-container-id-2 input.sk-toggleable__control:checked~label.sk-toggleable__label-arrow:before {content: \"▾\";}#sk-container-id-2 div.sk-estimator input.sk-toggleable__control:checked~label.sk-toggleable__label {background-color: #d4ebff;}#sk-container-id-2 div.sk-label input.sk-toggleable__control:checked~label.sk-toggleable__label {background-color: #d4ebff;}#sk-container-id-2 input.sk-hidden--visually {border: 0;clip: rect(1px 1px 1px 1px);clip: rect(1px, 1px, 1px, 1px);height: 1px;margin: -1px;overflow: hidden;padding: 0;position: absolute;width: 1px;}#sk-container-id-2 div.sk-estimator {font-family: monospace;background-color: #f0f8ff;border: 1px dotted black;border-radius: 0.25em;box-sizing: border-box;margin-bottom: 0.5em;}#sk-container-id-2 div.sk-estimator:hover {background-color: #d4ebff;}#sk-container-id-2 div.sk-parallel-item::after {content: \"\";width: 100%;border-bottom: 1px solid gray;flex-grow: 1;}#sk-container-id-2 div.sk-label:hover label.sk-toggleable__label {background-color: #d4ebff;}#sk-container-id-2 div.sk-serial::before {content: \"\";position: absolute;border-left: 1px solid gray;box-sizing: border-box;top: 0;bottom: 0;left: 50%;z-index: 0;}#sk-container-id-2 div.sk-serial {display: flex;flex-direction: column;align-items: center;background-color: white;padding-right: 0.2em;padding-left: 0.2em;position: relative;}#sk-container-id-2 div.sk-item {position: relative;z-index: 1;}#sk-container-id-2 div.sk-parallel {display: flex;align-items: stretch;justify-content: center;background-color: white;position: relative;}#sk-container-id-2 div.sk-item::before, #sk-container-id-2 div.sk-parallel-item::before {content: \"\";position: absolute;border-left: 1px solid gray;box-sizing: border-box;top: 0;bottom: 0;left: 50%;z-index: -1;}#sk-container-id-2 div.sk-parallel-item {display: flex;flex-direction: column;z-index: 1;position: relative;background-color: white;}#sk-container-id-2 div.sk-parallel-item:first-child::after {align-self: flex-end;width: 50%;}#sk-container-id-2 div.sk-parallel-item:last-child::after {align-self: flex-start;width: 50%;}#sk-container-id-2 div.sk-parallel-item:only-child::after {width: 0;}#sk-container-id-2 div.sk-dashed-wrapped {border: 1px dashed gray;margin: 0 0.4em 0.5em 0.4em;box-sizing: border-box;padding-bottom: 0.4em;background-color: white;}#sk-container-id-2 div.sk-label label {font-family: monospace;font-weight: bold;display: inline-block;line-height: 1.2em;}#sk-container-id-2 div.sk-label-container {text-align: center;}#sk-container-id-2 div.sk-container {/* jupyter's `normalize.less` sets `[hidden] { display: none; }` but bootstrap.min.css set `[hidden] { display: none !important; }` so we also need the `!important` here to be able to override the default hidden behavior on the sphinx rendered scikit-learn.org. See: https://github.com/scikit-learn/scikit-learn/issues/21755 */display: inline-block !important;position: relative;}#sk-container-id-2 div.sk-text-repr-fallback {display: none;}</style><div id=\"sk-container-id-2\" class=\"sk-top-container\"><div class=\"sk-text-repr-fallback\"><pre>GridSearchCV(cv=KFold(n_splits=10, random_state=0, shuffle=True),\n",
       "             estimator=DecisionTreeClassifier(random_state=0),\n",
       "             param_grid={&#x27;criterion&#x27;: [&#x27;gini&#x27;, &#x27;entropy&#x27;],\n",
       "                         &#x27;max_depth&#x27;: [4, 6, 8, 10]})</pre><b>In a Jupyter environment, please rerun this cell to show the HTML representation or trust the notebook. <br />On GitHub, the HTML representation is unable to render, please try loading this page with nbviewer.org.</b></div><div class=\"sk-container\" hidden><div class=\"sk-item sk-dashed-wrapped\"><div class=\"sk-label-container\"><div class=\"sk-label sk-toggleable\"><input class=\"sk-toggleable__control sk-hidden--visually\" id=\"sk-estimator-id-2\" type=\"checkbox\" ><label for=\"sk-estimator-id-2\" class=\"sk-toggleable__label sk-toggleable__label-arrow\">GridSearchCV</label><div class=\"sk-toggleable__content\"><pre>GridSearchCV(cv=KFold(n_splits=10, random_state=0, shuffle=True),\n",
       "             estimator=DecisionTreeClassifier(random_state=0),\n",
       "             param_grid={&#x27;criterion&#x27;: [&#x27;gini&#x27;, &#x27;entropy&#x27;],\n",
       "                         &#x27;max_depth&#x27;: [4, 6, 8, 10]})</pre></div></div></div><div class=\"sk-parallel\"><div class=\"sk-parallel-item\"><div class=\"sk-item\"><div class=\"sk-label-container\"><div class=\"sk-label sk-toggleable\"><input class=\"sk-toggleable__control sk-hidden--visually\" id=\"sk-estimator-id-3\" type=\"checkbox\" ><label for=\"sk-estimator-id-3\" class=\"sk-toggleable__label sk-toggleable__label-arrow\">estimator: DecisionTreeClassifier</label><div class=\"sk-toggleable__content\"><pre>DecisionTreeClassifier(random_state=0)</pre></div></div></div><div class=\"sk-serial\"><div class=\"sk-item\"><div class=\"sk-estimator sk-toggleable\"><input class=\"sk-toggleable__control sk-hidden--visually\" id=\"sk-estimator-id-4\" type=\"checkbox\" ><label for=\"sk-estimator-id-4\" class=\"sk-toggleable__label sk-toggleable__label-arrow\">DecisionTreeClassifier</label><div class=\"sk-toggleable__content\"><pre>DecisionTreeClassifier(random_state=0)</pre></div></div></div></div></div></div></div></div></div></div>"
      ],
      "text/plain": [
       "GridSearchCV(cv=KFold(n_splits=10, random_state=0, shuffle=True),\n",
       "             estimator=DecisionTreeClassifier(random_state=0),\n",
       "             param_grid={'criterion': ['gini', 'entropy'],\n",
       "                         'max_depth': [4, 6, 8, 10]})"
      ]
     },
     "execution_count": 40,
     "metadata": {},
     "output_type": "execute_result"
    }
   ],
   "source": [
    "# Ahora se usa GridSearchCV sobre el grid definido y con 10 particiones en la validación cruzada\n",
    "mejor_modelo = GridSearchCV(arbol, param_grid, cv=particiones)\n",
    "# Se ajusta el modelo\n",
    "mejor_modelo.fit(X_train, Y_train)"
   ]
  },
  {
   "cell_type": "code",
   "execution_count": 41,
   "id": "5403d1f5",
   "metadata": {},
   "outputs": [
    {
     "data": {
      "text/plain": [
       "{'criterion': 'gini', 'max_depth': 6}"
      ]
     },
     "execution_count": 41,
     "metadata": {},
     "output_type": "execute_result"
    }
   ],
   "source": [
    "# Se puede observar cuál fue el resultado de la búsqueda (mejores valores de hiperparámetros)\n",
    "mejor_modelo.best_params_"
   ]
  },
  {
   "cell_type": "code",
   "execution_count": 42,
   "id": "adc5f56e",
   "metadata": {},
   "outputs": [
    {
     "name": "stdout",
     "output_type": "stream",
     "text": [
      "              precision    recall  f1-score   support\n",
      "\n",
      "           0       0.69      0.78      0.73      6244\n",
      "           1       0.76      0.67      0.71      6660\n",
      "\n",
      "    accuracy                           0.72     12904\n",
      "   macro avg       0.72      0.72      0.72     12904\n",
      "weighted avg       0.73      0.72      0.72     12904\n",
      "\n"
     ]
    }
   ],
   "source": [
    "# Obtener el mejor modelo\n",
    "modelo_final = mejor_modelo.best_estimator_\n",
    "# Se prueba ahora este modelo sobre el test\n",
    "y_pred = modelo_final.predict(X_test)\n",
    "print(classification_report(Y_test, y_pred))"
   ]
  },
  {
   "cell_type": "code",
   "execution_count": 43,
   "id": "a2fe236a",
   "metadata": {},
   "outputs": [],
   "source": [
    "# Creación del objeto de árbol de decisión. Se usa como criterio de pureza \"gini\" y \"max_depth=6\".\n",
    "arbol = DecisionTreeClassifier(criterion='gini', max_depth=6,random_state = 0)"
   ]
  },
  {
   "cell_type": "code",
   "execution_count": 44,
   "id": "d439c56c",
   "metadata": {},
   "outputs": [],
   "source": [
    "# Entrenamiento del modelo de árbol de decisión con los datos de entrenamiento.\n",
    "arbol = arbol.fit(X_train, Y_train)"
   ]
  },
  {
   "cell_type": "code",
   "execution_count": 45,
   "id": "af8ca217",
   "metadata": {},
   "outputs": [
    {
     "data": {
      "text/plain": [
       "array([1.21347385e-01, 3.05813558e-03, 1.05419089e-02, 7.67379095e-01,\n",
       "       6.47419516e-03, 4.43290120e-04, 0.00000000e+00, 3.68269884e-03,\n",
       "       7.00597026e-02, 0.00000000e+00, 1.85252504e-04, 7.51487215e-03,\n",
       "       0.00000000e+00, 2.86378648e-03, 2.41265839e-03, 0.00000000e+00,\n",
       "       0.00000000e+00, 2.82292644e-03, 1.21409243e-03])"
      ]
     },
     "execution_count": 45,
     "metadata": {},
     "output_type": "execute_result"
    }
   ],
   "source": [
    "# Obtener la importancia de las variables. Para esto se puede usar uno de los atributos del modelo \"feature_importances_\", el\n",
    "# cual nos devuelve un coeficiente o peso para cada atributo: mientra más grande sea este más importante será la variable\n",
    "# asociada.\n",
    "importancia = arbol.feature_importances_\n",
    "importancia"
   ]
  },
  {
   "cell_type": "code",
   "execution_count": 46,
   "id": "eab1ecb3",
   "metadata": {},
   "outputs": [
    {
     "data": {
      "text/html": [
       "<div>\n",
       "<style scoped>\n",
       "    .dataframe tbody tr th:only-of-type {\n",
       "        vertical-align: middle;\n",
       "    }\n",
       "\n",
       "    .dataframe tbody tr th {\n",
       "        vertical-align: top;\n",
       "    }\n",
       "\n",
       "    .dataframe thead th {\n",
       "        text-align: right;\n",
       "    }\n",
       "</style>\n",
       "<table border=\"1\" class=\"dataframe\">\n",
       "  <thead>\n",
       "    <tr style=\"text-align: right;\">\n",
       "      <th></th>\n",
       "      <th>Atributo</th>\n",
       "      <th>Importancia</th>\n",
       "    </tr>\n",
       "  </thead>\n",
       "  <tbody>\n",
       "    <tr>\n",
       "      <th>0</th>\n",
       "      <td>Presion sistólica</td>\n",
       "      <td>0.767379</td>\n",
       "    </tr>\n",
       "    <tr>\n",
       "      <th>1</th>\n",
       "      <td>Edad</td>\n",
       "      <td>0.121347</td>\n",
       "    </tr>\n",
       "    <tr>\n",
       "      <th>2</th>\n",
       "      <td>Colesterol_Muy elevado</td>\n",
       "      <td>0.070060</td>\n",
       "    </tr>\n",
       "    <tr>\n",
       "      <th>3</th>\n",
       "      <td>Peso</td>\n",
       "      <td>0.010542</td>\n",
       "    </tr>\n",
       "    <tr>\n",
       "      <th>4</th>\n",
       "      <td>Glucosa_Muy elevado</td>\n",
       "      <td>0.007515</td>\n",
       "    </tr>\n",
       "    <tr>\n",
       "      <th>5</th>\n",
       "      <td>Presión diastólica</td>\n",
       "      <td>0.006474</td>\n",
       "    </tr>\n",
       "    <tr>\n",
       "      <th>6</th>\n",
       "      <td>Colesterol_Elevado</td>\n",
       "      <td>0.003683</td>\n",
       "    </tr>\n",
       "    <tr>\n",
       "      <th>7</th>\n",
       "      <td>Altura</td>\n",
       "      <td>0.003058</td>\n",
       "    </tr>\n",
       "    <tr>\n",
       "      <th>8</th>\n",
       "      <td>Fumador_NO</td>\n",
       "      <td>0.002864</td>\n",
       "    </tr>\n",
       "    <tr>\n",
       "      <th>9</th>\n",
       "      <td>Activo_NO</td>\n",
       "      <td>0.002823</td>\n",
       "    </tr>\n",
       "    <tr>\n",
       "      <th>10</th>\n",
       "      <td>Fumador_SI</td>\n",
       "      <td>0.002413</td>\n",
       "    </tr>\n",
       "    <tr>\n",
       "      <th>11</th>\n",
       "      <td>Activo_SI</td>\n",
       "      <td>0.001214</td>\n",
       "    </tr>\n",
       "    <tr>\n",
       "      <th>12</th>\n",
       "      <td>Género_F</td>\n",
       "      <td>0.000443</td>\n",
       "    </tr>\n",
       "    <tr>\n",
       "      <th>13</th>\n",
       "      <td>Glucosa_Elevado</td>\n",
       "      <td>0.000185</td>\n",
       "    </tr>\n",
       "    <tr>\n",
       "      <th>14</th>\n",
       "      <td>Glucosa_Normal</td>\n",
       "      <td>0.000000</td>\n",
       "    </tr>\n",
       "    <tr>\n",
       "      <th>15</th>\n",
       "      <td>Género_M</td>\n",
       "      <td>0.000000</td>\n",
       "    </tr>\n",
       "    <tr>\n",
       "      <th>16</th>\n",
       "      <td>Alcohol_NO</td>\n",
       "      <td>0.000000</td>\n",
       "    </tr>\n",
       "    <tr>\n",
       "      <th>17</th>\n",
       "      <td>Alcohol_SI</td>\n",
       "      <td>0.000000</td>\n",
       "    </tr>\n",
       "    <tr>\n",
       "      <th>18</th>\n",
       "      <td>Colesterol_Normal</td>\n",
       "      <td>0.000000</td>\n",
       "    </tr>\n",
       "  </tbody>\n",
       "</table>\n",
       "</div>"
      ],
      "text/plain": [
       "                  Atributo  Importancia\n",
       "0        Presion sistólica     0.767379\n",
       "1                     Edad     0.121347\n",
       "2   Colesterol_Muy elevado     0.070060\n",
       "3                     Peso     0.010542\n",
       "4      Glucosa_Muy elevado     0.007515\n",
       "5       Presión diastólica     0.006474\n",
       "6       Colesterol_Elevado     0.003683\n",
       "7                   Altura     0.003058\n",
       "8               Fumador_NO     0.002864\n",
       "9                Activo_NO     0.002823\n",
       "10              Fumador_SI     0.002413\n",
       "11               Activo_SI     0.001214\n",
       "12                Género_F     0.000443\n",
       "13         Glucosa_Elevado     0.000185\n",
       "14          Glucosa_Normal     0.000000\n",
       "15                Género_M     0.000000\n",
       "16              Alcohol_NO     0.000000\n",
       "17              Alcohol_SI     0.000000\n",
       "18       Colesterol_Normal     0.000000"
      ]
     },
     "execution_count": 46,
     "metadata": {},
     "output_type": "execute_result"
    }
   ],
   "source": [
    "importancia_atributo = pd.DataFrame(data={'Atributo': X_train.columns, 'Importancia': importancia})\n",
    "importancia_atributo = importancia_atributo.sort_values(by='Importancia', ascending=False).reset_index(drop=True)\n",
    "importancia_atributo"
   ]
  },
  {
   "cell_type": "markdown",
   "id": "d5484f7c",
   "metadata": {},
   "source": [
    "Ahora se procede a graficar el modelo. Por propósitos de visualización y requerimiento se limita la profundidad del árbol a 3."
   ]
  },
  {
   "cell_type": "code",
   "execution_count": 47,
   "id": "5084f5a5",
   "metadata": {},
   "outputs": [
    {
     "data": {
      "image/png": "[encoded data removed]",
      "text/plain": [
       "<Figure size 1800x720 with 1 Axes>"
      ]
     },
     "metadata": {
      "needs_background": "light"
     },
     "output_type": "display_data"
    }
   ],
   "source": [
    "fig = plt.figure(figsize=(25,10))\n",
    "_ = tree.plot_tree(arbol, max_depth=3, feature_names=X.columns, class_names=[\"0\", \"1\"], filled=True, fontsize=9)"
   ]
  },
  {
   "cell_type": "code",
   "execution_count": 48,
   "id": "8fd293ce",
   "metadata": {},
   "outputs": [],
   "source": [
    "# Se guarda esta figura como una imagen\n",
    "fig.savefig(\"decision_tree_hyperparameters.png\")"
   ]
  },
  {
   "cell_type": "code",
   "execution_count": 49,
   "id": "7496393a",
   "metadata": {},
   "outputs": [
    {
     "data": {
      "text/plain": [
       "array([[4862, 1382],\n",
       "       [2215, 4445]], dtype=int64)"
      ]
     },
     "execution_count": 49,
     "metadata": {},
     "output_type": "execute_result"
    }
   ],
   "source": [
    "# Se genera la matriz de confusión\n",
    "confusion_matrix(Y_test, y_pred)"
   ]
  },
  {
   "cell_type": "code",
   "execution_count": 50,
   "id": "fd14f678",
   "metadata": {},
   "outputs": [
    {
     "name": "stderr",
     "output_type": "stream",
     "text": [
      "C:\\Users\\felip\\anaconda3\\lib\\site-packages\\sklearn\\utils\\deprecation.py:87: FutureWarning: Function plot_confusion_matrix is deprecated; Function `plot_confusion_matrix` is deprecated in 1.0 and will be removed in 1.2. Use one of the class methods: ConfusionMatrixDisplay.from_predictions or ConfusionMatrixDisplay.from_estimator.\n",
      "  warnings.warn(msg, category=FutureWarning)\n"
     ]
    },
    {
     "data": {
      "image/png": "[encoded data removed]",
      "text/plain": [
       "<Figure size 432x288 with 2 Axes>"
      ]
     },
     "metadata": {
      "needs_background": "light"
     },
     "output_type": "display_data"
    }
   ],
   "source": [
    "# Se visualiza la matriz de confusión\n",
    "plot_confusion_matrix(arbol, X_test, Y_test)\n",
    "plt.show()"
   ]
  },
  {
   "cell_type": "markdown",
   "id": "99a87d5c",
   "metadata": {},
   "source": [
    "De igual manera, es posible generar diferentes métricas de rendimiento, como el recall, la precisión y la puntuación F1."
   ]
  },
  {
   "cell_type": "code",
   "execution_count": 51,
   "id": "e77d716f",
   "metadata": {},
   "outputs": [
    {
     "name": "stdout",
     "output_type": "stream",
     "text": [
      "Exactitud: 0.72\n",
      "Precisión: 0.7628282134889308\n",
      "Recall: 0.6674174174174174\n",
      "Puntuación F1: 0.7119404180347562\n"
     ]
    }
   ],
   "source": [
    "print('Exactitud: %.2f' % accuracy_score(Y_test, y_pred))\n",
    "print('Precisión: {}'.format(precision_score(Y_test, y_pred)))\n",
    "print('Recall: {}'.format(recall_score(Y_test, y_pred)))\n",
    "print('Puntuación F1: {}'.format(f1_score(Y_test, y_pred)))"
   ]
  },
  {
   "cell_type": "markdown",
   "id": "61d8e4eb",
   "metadata": {},
   "source": [
    "# 9. Predicciones y probabilidad\n",
    "Una vez obtenido el modelo de árbol de decisión también podríamos obtener la probabilidad de que un dato sea clasificado como una clase particular."
   ]
  },
  {
   "cell_type": "code",
   "execution_count": 52,
   "id": "f24db96c",
   "metadata": {},
   "outputs": [],
   "source": [
    "# Por ejemplo, tomemos un dato del conjunto test y apliquemos el método \"predict_proba\".\n",
    "y_pred_test = modelo_final.predict_proba(X_test.iloc[[20]])"
   ]
  },
  {
   "cell_type": "code",
   "execution_count": 53,
   "id": "ad9bb9a0",
   "metadata": {},
   "outputs": [
    {
     "name": "stdout",
     "output_type": "stream",
     "text": [
      "[[0.60611735 0.39388265]]\n"
     ]
    }
   ],
   "source": [
    "print(y_pred_test)"
   ]
  },
  {
   "cell_type": "code",
   "execution_count": 54,
   "id": "db4b6c2b",
   "metadata": {},
   "outputs": [
    {
     "data": {
      "text/plain": [
       "array([0, 1])"
      ]
     },
     "execution_count": 54,
     "metadata": {},
     "output_type": "execute_result"
    }
   ],
   "source": [
    "# Para saber el orden de las clases se puede usar el atributo \"classes_\" del modelo:\n",
    "modelo_final.classes_"
   ]
  }
 ],
 "metadata": {
  "kernelspec": {
   "display_name": "Python 3 (ipykernel)",
   "language": "python",
   "name": "python3"
  },
  "language_info": {
   "codemirror_mode": {
    "name": "ipython",
    "version": 3
   },
   "file_extension": ".py",
   "mimetype": "text/x-python",
   "name": "python",
   "nbconvert_exporter": "python",
   "pygments_lexer": "ipython3",
   "version": "3.9.7"
  }
 },
 "nbformat": 4,
 "nbformat_minor": 5
}
