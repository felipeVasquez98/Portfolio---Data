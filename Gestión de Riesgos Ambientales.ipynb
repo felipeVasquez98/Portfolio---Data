{
 "cells": [
  {
   "cell_type": "markdown",
   "id": "9f314e93",
   "metadata": {},
   "source": [
    "# 1. Librerías a implementar"
   ]
  },
  {
   "cell_type": "code",
   "execution_count": 1,
   "id": "deefd305",
   "metadata": {},
   "outputs": [],
   "source": [
    "# Librería para comando de sistema\n",
    "import os\n",
    "\n",
    "# Librerías para manejo de datos\n",
    "import pandas as pd\n",
    "import numpy as np\n",
    "\n",
    "# Librería para preparar los datos\n",
    "from sklearn.preprocessing import LabelEncoder\n",
    "# Para crear el árbol de decisión\n",
    "from sklearn.tree import DecisionTreeClassifier\n",
    "# Para realizar la separación del conjunto de aprendizaje en entrenamiento y test\n",
    "from sklearn.model_selection import train_test_split\n",
    "# Para evaluar el modelo\n",
    "from sklearn.metrics import accuracy_score\n",
    "# Para el reporte de rendimiento con métricas de clasificación\n",
    "from sklearn.metrics import confusion_matrix, classification_report, precision_score, recall_score, f1_score\n",
    "from sklearn.metrics import plot_confusion_matrix\n",
    "# Para búsqueda de hiperparámetros\n",
    "from sklearn.model_selection import GridSearchCV\n",
    "# Para la validación cruzada\n",
    "from sklearn.model_selection import KFold\n",
    "\n",
    "# Librerías para la visualización del árbol de decisión\n",
    "import matplotlib.pyplot as plt\n",
    "from sklearn import tree"
   ]
  },
  {
   "cell_type": "markdown",
   "id": "e6982267",
   "metadata": {},
   "source": [
    "# 2. Carga de los datos\n",
    "Se carga el set de datos que se encuentra disponible"
   ]
  },
  {
   "cell_type": "code",
   "execution_count": 2,
   "id": "63aa6572",
   "metadata": {},
   "outputs": [],
   "source": [
    "# Se cargan los datos\n",
    "data = pd.read_excel('gestion_riesgos_ambientales.xlsx', sheet_name='in', na_values=['?'])"
   ]
  },
  {
   "cell_type": "code",
   "execution_count": 3,
   "id": "30f797e6",
   "metadata": {},
   "outputs": [
    {
     "data": {
      "text/plain": [
       "(3276, 10)"
      ]
     },
     "execution_count": 3,
     "metadata": {},
     "output_type": "execute_result"
    }
   ],
   "source": [
    "# Cantidad de datos y variables\n",
    "data.shape"
   ]
  },
  {
   "cell_type": "code",
   "execution_count": 4,
   "id": "e41f5a03",
   "metadata": {},
   "outputs": [
    {
     "data": {
      "text/html": [
       "<div>\n",
       "<style scoped>\n",
       "    .dataframe tbody tr th:only-of-type {\n",
       "        vertical-align: middle;\n",
       "    }\n",
       "\n",
       "    .dataframe tbody tr th {\n",
       "        vertical-align: top;\n",
       "    }\n",
       "\n",
       "    .dataframe thead th {\n",
       "        text-align: right;\n",
       "    }\n",
       "</style>\n",
       "<table border=\"1\" class=\"dataframe\">\n",
       "  <thead>\n",
       "    <tr style=\"text-align: right;\">\n",
       "      <th></th>\n",
       "      <th>pH</th>\n",
       "      <th>Dureza</th>\n",
       "      <th>Sólidos</th>\n",
       "      <th>Cloraminas</th>\n",
       "      <th>Sulfatos</th>\n",
       "      <th>Conductividad</th>\n",
       "      <th>Carbono_orgánico</th>\n",
       "      <th>Trihalometanos</th>\n",
       "      <th>Turbidez</th>\n",
       "      <th>Potabilidad</th>\n",
       "    </tr>\n",
       "  </thead>\n",
       "  <tbody>\n",
       "    <tr>\n",
       "      <th>0</th>\n",
       "      <td>NaN</td>\n",
       "      <td>204.89</td>\n",
       "      <td>20791.32</td>\n",
       "      <td>7.30</td>\n",
       "      <td>368.52</td>\n",
       "      <td>564.31</td>\n",
       "      <td>10.38</td>\n",
       "      <td>86.99</td>\n",
       "      <td>2.96</td>\n",
       "      <td>NO</td>\n",
       "    </tr>\n",
       "    <tr>\n",
       "      <th>1</th>\n",
       "      <td>3.72</td>\n",
       "      <td>129.42</td>\n",
       "      <td>18630.06</td>\n",
       "      <td>6.64</td>\n",
       "      <td>NaN</td>\n",
       "      <td>592.89</td>\n",
       "      <td>15.18</td>\n",
       "      <td>56.33</td>\n",
       "      <td>4.50</td>\n",
       "      <td>NO</td>\n",
       "    </tr>\n",
       "    <tr>\n",
       "      <th>2</th>\n",
       "      <td>8.10</td>\n",
       "      <td>224.24</td>\n",
       "      <td>19909.54</td>\n",
       "      <td>9.28</td>\n",
       "      <td>NaN</td>\n",
       "      <td>418.61</td>\n",
       "      <td>16.87</td>\n",
       "      <td>66.42</td>\n",
       "      <td>3.06</td>\n",
       "      <td>NO</td>\n",
       "    </tr>\n",
       "    <tr>\n",
       "      <th>3</th>\n",
       "      <td>8.32</td>\n",
       "      <td>214.37</td>\n",
       "      <td>22018.42</td>\n",
       "      <td>8.06</td>\n",
       "      <td>356.89</td>\n",
       "      <td>363.27</td>\n",
       "      <td>18.44</td>\n",
       "      <td>100.34</td>\n",
       "      <td>4.63</td>\n",
       "      <td>NO</td>\n",
       "    </tr>\n",
       "    <tr>\n",
       "      <th>4</th>\n",
       "      <td>9.09</td>\n",
       "      <td>181.10</td>\n",
       "      <td>17978.99</td>\n",
       "      <td>6.55</td>\n",
       "      <td>310.14</td>\n",
       "      <td>398.41</td>\n",
       "      <td>11.56</td>\n",
       "      <td>32.00</td>\n",
       "      <td>4.08</td>\n",
       "      <td>NO</td>\n",
       "    </tr>\n",
       "  </tbody>\n",
       "</table>\n",
       "</div>"
      ],
      "text/plain": [
       "     pH  Dureza   Sólidos  Cloraminas  Sulfatos  Conductividad  \\\n",
       "0   NaN  204.89  20791.32        7.30    368.52         564.31   \n",
       "1  3.72  129.42  18630.06        6.64       NaN         592.89   \n",
       "2  8.10  224.24  19909.54        9.28       NaN         418.61   \n",
       "3  8.32  214.37  22018.42        8.06    356.89         363.27   \n",
       "4  9.09  181.10  17978.99        6.55    310.14         398.41   \n",
       "\n",
       "   Carbono_orgánico  Trihalometanos  Turbidez Potabilidad  \n",
       "0             10.38           86.99      2.96          NO  \n",
       "1             15.18           56.33      4.50          NO  \n",
       "2             16.87           66.42      3.06          NO  \n",
       "3             18.44          100.34      4.63          NO  \n",
       "4             11.56           32.00      4.08          NO  "
      ]
     },
     "execution_count": 4,
     "metadata": {},
     "output_type": "execute_result"
    }
   ],
   "source": [
    "# Mostrar los datos\n",
    "data.head()"
   ]
  },
  {
   "cell_type": "markdown",
   "id": "055a0854",
   "metadata": {},
   "source": [
    "# 3. Descripción de los datos\n",
    "Ahora es posible hacer una descripción más detallada de los datos disponibles. Se tiene en cuenta que esto es importante para poder determinar problemas de calidad en los datos. Asimismo, proporciona información que será útil en la fase de preparación de los datos."
   ]
  },
  {
   "cell_type": "code",
   "execution_count": 5,
   "id": "75d77b2b",
   "metadata": {},
   "outputs": [
    {
     "data": {
      "text/html": [
       "<div>\n",
       "<style scoped>\n",
       "    .dataframe tbody tr th:only-of-type {\n",
       "        vertical-align: middle;\n",
       "    }\n",
       "\n",
       "    .dataframe tbody tr th {\n",
       "        vertical-align: top;\n",
       "    }\n",
       "\n",
       "    .dataframe thead th {\n",
       "        text-align: right;\n",
       "    }\n",
       "</style>\n",
       "<table border=\"1\" class=\"dataframe\">\n",
       "  <thead>\n",
       "    <tr style=\"text-align: right;\">\n",
       "      <th></th>\n",
       "      <th>pH</th>\n",
       "      <th>Dureza</th>\n",
       "      <th>Sólidos</th>\n",
       "      <th>Cloraminas</th>\n",
       "      <th>Sulfatos</th>\n",
       "      <th>Conductividad</th>\n",
       "      <th>Carbono_orgánico</th>\n",
       "      <th>Trihalometanos</th>\n",
       "      <th>Turbidez</th>\n",
       "    </tr>\n",
       "  </thead>\n",
       "  <tbody>\n",
       "    <tr>\n",
       "      <th>count</th>\n",
       "      <td>2785.000000</td>\n",
       "      <td>3276.000000</td>\n",
       "      <td>3276.000000</td>\n",
       "      <td>3276.000000</td>\n",
       "      <td>2495.000000</td>\n",
       "      <td>3276.000000</td>\n",
       "      <td>3276.000000</td>\n",
       "      <td>3114.000000</td>\n",
       "      <td>3276.000000</td>\n",
       "    </tr>\n",
       "    <tr>\n",
       "      <th>mean</th>\n",
       "      <td>7.080804</td>\n",
       "      <td>196.369481</td>\n",
       "      <td>22014.092415</td>\n",
       "      <td>7.122241</td>\n",
       "      <td>333.775784</td>\n",
       "      <td>426.205171</td>\n",
       "      <td>14.284921</td>\n",
       "      <td>66.396281</td>\n",
       "      <td>3.966731</td>\n",
       "    </tr>\n",
       "    <tr>\n",
       "      <th>std</th>\n",
       "      <td>1.594369</td>\n",
       "      <td>32.879680</td>\n",
       "      <td>8768.570852</td>\n",
       "      <td>1.583143</td>\n",
       "      <td>41.416864</td>\n",
       "      <td>80.824123</td>\n",
       "      <td>3.308232</td>\n",
       "      <td>16.174983</td>\n",
       "      <td>0.780354</td>\n",
       "    </tr>\n",
       "    <tr>\n",
       "      <th>min</th>\n",
       "      <td>0.000000</td>\n",
       "      <td>47.430000</td>\n",
       "      <td>320.940000</td>\n",
       "      <td>0.350000</td>\n",
       "      <td>129.000000</td>\n",
       "      <td>181.480000</td>\n",
       "      <td>2.200000</td>\n",
       "      <td>0.740000</td>\n",
       "      <td>1.450000</td>\n",
       "    </tr>\n",
       "    <tr>\n",
       "      <th>25%</th>\n",
       "      <td>6.090000</td>\n",
       "      <td>176.847500</td>\n",
       "      <td>15666.687500</td>\n",
       "      <td>6.130000</td>\n",
       "      <td>307.695000</td>\n",
       "      <td>365.735000</td>\n",
       "      <td>12.070000</td>\n",
       "      <td>55.847500</td>\n",
       "      <td>3.440000</td>\n",
       "    </tr>\n",
       "    <tr>\n",
       "      <th>50%</th>\n",
       "      <td>7.040000</td>\n",
       "      <td>196.965000</td>\n",
       "      <td>20927.830000</td>\n",
       "      <td>7.130000</td>\n",
       "      <td>333.070000</td>\n",
       "      <td>421.885000</td>\n",
       "      <td>14.220000</td>\n",
       "      <td>66.620000</td>\n",
       "      <td>3.955000</td>\n",
       "    </tr>\n",
       "    <tr>\n",
       "      <th>75%</th>\n",
       "      <td>8.060000</td>\n",
       "      <td>216.670000</td>\n",
       "      <td>27332.760000</td>\n",
       "      <td>8.112500</td>\n",
       "      <td>359.950000</td>\n",
       "      <td>481.790000</td>\n",
       "      <td>16.560000</td>\n",
       "      <td>77.337500</td>\n",
       "      <td>4.500000</td>\n",
       "    </tr>\n",
       "    <tr>\n",
       "      <th>max</th>\n",
       "      <td>14.000000</td>\n",
       "      <td>323.120000</td>\n",
       "      <td>61227.200000</td>\n",
       "      <td>13.130000</td>\n",
       "      <td>481.030000</td>\n",
       "      <td>753.340000</td>\n",
       "      <td>28.300000</td>\n",
       "      <td>124.000000</td>\n",
       "      <td>6.740000</td>\n",
       "    </tr>\n",
       "  </tbody>\n",
       "</table>\n",
       "</div>"
      ],
      "text/plain": [
       "                pH       Dureza       Sólidos   Cloraminas     Sulfatos  \\\n",
       "count  2785.000000  3276.000000   3276.000000  3276.000000  2495.000000   \n",
       "mean      7.080804   196.369481  22014.092415     7.122241   333.775784   \n",
       "std       1.594369    32.879680   8768.570852     1.583143    41.416864   \n",
       "min       0.000000    47.430000    320.940000     0.350000   129.000000   \n",
       "25%       6.090000   176.847500  15666.687500     6.130000   307.695000   \n",
       "50%       7.040000   196.965000  20927.830000     7.130000   333.070000   \n",
       "75%       8.060000   216.670000  27332.760000     8.112500   359.950000   \n",
       "max      14.000000   323.120000  61227.200000    13.130000   481.030000   \n",
       "\n",
       "       Conductividad  Carbono_orgánico  Trihalometanos     Turbidez  \n",
       "count    3276.000000       3276.000000     3114.000000  3276.000000  \n",
       "mean      426.205171         14.284921       66.396281     3.966731  \n",
       "std        80.824123          3.308232       16.174983     0.780354  \n",
       "min       181.480000          2.200000        0.740000     1.450000  \n",
       "25%       365.735000         12.070000       55.847500     3.440000  \n",
       "50%       421.885000         14.220000       66.620000     3.955000  \n",
       "75%       481.790000         16.560000       77.337500     4.500000  \n",
       "max       753.340000         28.300000      124.000000     6.740000  "
      ]
     },
     "execution_count": 5,
     "metadata": {},
     "output_type": "execute_result"
    }
   ],
   "source": [
    "# Se realiza el perfilamiento de los datos. En este, se genera información de tipo descriptivo para cada una de las variables\n",
    "# numércias\n",
    "data.describe()"
   ]
  },
  {
   "cell_type": "code",
   "execution_count": 6,
   "id": "0c637ca6",
   "metadata": {},
   "outputs": [
    {
     "data": {
      "text/plain": [
       "NO    1998\n",
       "SI    1278\n",
       "Name: Potabilidad, dtype: int64"
      ]
     },
     "execution_count": 6,
     "metadata": {},
     "output_type": "execute_result"
    }
   ],
   "source": [
    "# Categorías que se presentan en la variable categórica \"Potabilidad\" y en qué proporción.\n",
    "pd.value_counts(data['Potabilidad'])"
   ]
  },
  {
   "cell_type": "markdown",
   "id": "e7b492fa",
   "metadata": {},
   "source": [
    "# 4. Limpieza y preparación de los datos"
   ]
  },
  {
   "cell_type": "code",
   "execution_count": 7,
   "id": "82fa9dc3",
   "metadata": {},
   "outputs": [],
   "source": [
    "# Es recomendable que todos los pasos de preparación se realicen en otro dataframe\n",
    "df = data"
   ]
  },
  {
   "cell_type": "code",
   "execution_count": 8,
   "id": "a1b984ae",
   "metadata": {},
   "outputs": [
    {
     "data": {
      "text/plain": [
       "pH                  0.149878\n",
       "Dureza              0.000000\n",
       "Sólidos             0.000000\n",
       "Cloraminas          0.000000\n",
       "Sulfatos            0.238400\n",
       "Conductividad       0.000000\n",
       "Carbono_orgánico    0.000000\n",
       "Trihalometanos      0.049451\n",
       "Turbidez            0.000000\n",
       "Potabilidad         0.000000\n",
       "dtype: float64"
      ]
     },
     "execution_count": 8,
     "metadata": {},
     "output_type": "execute_result"
    }
   ],
   "source": [
    "# Se visualiza los registros nulos a continuación:\n",
    "df.isna().sum()/len(df)"
   ]
  },
  {
   "cell_type": "markdown",
   "id": "eb98547a",
   "metadata": {},
   "source": [
    "Teniendo en cuenta lo anterior observamos que hay registro nulos en las variable \"pH\", \"Sulfatos\" y \"Trihalometanos\""
   ]
  },
  {
   "cell_type": "code",
   "execution_count": 9,
   "id": "ded83681",
   "metadata": {},
   "outputs": [],
   "source": [
    "# Se eliminan del dataframe aquellos registros nulos\n",
    "df = df.dropna()\n",
    "\n",
    "#Se explora el dataframe para saber si hay registros duplicados\n",
    "df = df.drop_duplicates()"
   ]
  },
  {
   "cell_type": "code",
   "execution_count": 10,
   "id": "fba8739f",
   "metadata": {},
   "outputs": [
    {
     "data": {
      "text/plain": [
       "(2011, 10)"
      ]
     },
     "execution_count": 10,
     "metadata": {},
     "output_type": "execute_result"
    }
   ],
   "source": [
    "df.shape"
   ]
  },
  {
   "cell_type": "markdown",
   "id": "4a9559be",
   "metadata": {},
   "source": [
    "Un aspecto muy importante para tener en cuenta son los requerimientos de entrada de los algoritmos de aprendizaje implementados en las librerías utilizadas. De forma particular, scikit-learn requiere que todos los atributos sean numéricos y que la variable objetivo, en una tarea de clasificación, esté codificada con números. En este caso, la única variable categórica es la variable objetivo **\"Potabilidad\"**."
   ]
  },
  {
   "cell_type": "code",
   "execution_count": 11,
   "id": "9af12a64",
   "metadata": {},
   "outputs": [],
   "source": [
    "# Para hacer la transformación o codificación de la variable objetivo se usa la función LabelEncoder . Es importante tener en\n",
    "# cuenta que, aunque la representación de esta variable sea numérica, la tarea a resolver será una clasificación\n",
    "# Primero se debe generar el objeto\n",
    "codificacion = LabelEncoder()"
   ]
  },
  {
   "cell_type": "code",
   "execution_count": 12,
   "id": "e412f0c3",
   "metadata": {},
   "outputs": [
    {
     "data": {
      "text/plain": [
       "NO    1200\n",
       "SI     811\n",
       "Name: Potabilidad, dtype: int64"
      ]
     },
     "execution_count": 12,
     "metadata": {},
     "output_type": "execute_result"
    }
   ],
   "source": [
    "# se cuentan los registros para \"SI\" y \"NO\" de la variable objetivo \"Potabilidad\" después de la limpieza de datos\n",
    "pd.value_counts(df['Potabilidad'])"
   ]
  },
  {
   "cell_type": "code",
   "execution_count": 13,
   "id": "836babb0",
   "metadata": {},
   "outputs": [],
   "source": [
    "# Ahora se ajusta a los datos\n",
    "df['Potabilidad']=codificacion.fit_transform(df['Potabilidad'])"
   ]
  },
  {
   "cell_type": "code",
   "execution_count": 14,
   "id": "bcf6c8e4",
   "metadata": {},
   "outputs": [
    {
     "data": {
      "text/plain": [
       "0    1200\n",
       "1     811\n",
       "Name: Potabilidad, dtype: int64"
      ]
     },
     "execution_count": 14,
     "metadata": {},
     "output_type": "execute_result"
    }
   ],
   "source": [
    "# Visualización de la clase. Se observa que ahora la categoría \"SI\" está codificada con un \"1\" y la clase \"NO\" con un \"0\"\n",
    "df['Potabilidad'].value_counts()"
   ]
  },
  {
   "cell_type": "code",
   "execution_count": 15,
   "id": "a070cac4",
   "metadata": {},
   "outputs": [
    {
     "data": {
      "text/html": [
       "<div>\n",
       "<style scoped>\n",
       "    .dataframe tbody tr th:only-of-type {\n",
       "        vertical-align: middle;\n",
       "    }\n",
       "\n",
       "    .dataframe tbody tr th {\n",
       "        vertical-align: top;\n",
       "    }\n",
       "\n",
       "    .dataframe thead th {\n",
       "        text-align: right;\n",
       "    }\n",
       "</style>\n",
       "<table border=\"1\" class=\"dataframe\">\n",
       "  <thead>\n",
       "    <tr style=\"text-align: right;\">\n",
       "      <th></th>\n",
       "      <th>pH</th>\n",
       "      <th>Dureza</th>\n",
       "      <th>Sólidos</th>\n",
       "      <th>Cloraminas</th>\n",
       "      <th>Sulfatos</th>\n",
       "      <th>Conductividad</th>\n",
       "      <th>Carbono_orgánico</th>\n",
       "      <th>Trihalometanos</th>\n",
       "      <th>Turbidez</th>\n",
       "      <th>Potabilidad</th>\n",
       "    </tr>\n",
       "  </thead>\n",
       "  <tbody>\n",
       "    <tr>\n",
       "      <th>3</th>\n",
       "      <td>8.32</td>\n",
       "      <td>214.37</td>\n",
       "      <td>22018.42</td>\n",
       "      <td>8.06</td>\n",
       "      <td>356.89</td>\n",
       "      <td>363.27</td>\n",
       "      <td>18.44</td>\n",
       "      <td>100.34</td>\n",
       "      <td>4.63</td>\n",
       "      <td>0</td>\n",
       "    </tr>\n",
       "    <tr>\n",
       "      <th>4</th>\n",
       "      <td>9.09</td>\n",
       "      <td>181.10</td>\n",
       "      <td>17978.99</td>\n",
       "      <td>6.55</td>\n",
       "      <td>310.14</td>\n",
       "      <td>398.41</td>\n",
       "      <td>11.56</td>\n",
       "      <td>32.00</td>\n",
       "      <td>4.08</td>\n",
       "      <td>0</td>\n",
       "    </tr>\n",
       "    <tr>\n",
       "      <th>5</th>\n",
       "      <td>5.58</td>\n",
       "      <td>188.31</td>\n",
       "      <td>28748.69</td>\n",
       "      <td>7.54</td>\n",
       "      <td>326.68</td>\n",
       "      <td>280.47</td>\n",
       "      <td>8.40</td>\n",
       "      <td>54.92</td>\n",
       "      <td>2.56</td>\n",
       "      <td>0</td>\n",
       "    </tr>\n",
       "    <tr>\n",
       "      <th>6</th>\n",
       "      <td>10.22</td>\n",
       "      <td>248.07</td>\n",
       "      <td>28749.72</td>\n",
       "      <td>7.51</td>\n",
       "      <td>393.66</td>\n",
       "      <td>283.65</td>\n",
       "      <td>13.79</td>\n",
       "      <td>84.60</td>\n",
       "      <td>2.67</td>\n",
       "      <td>0</td>\n",
       "    </tr>\n",
       "    <tr>\n",
       "      <th>7</th>\n",
       "      <td>8.64</td>\n",
       "      <td>203.36</td>\n",
       "      <td>13672.09</td>\n",
       "      <td>4.56</td>\n",
       "      <td>303.31</td>\n",
       "      <td>474.61</td>\n",
       "      <td>12.36</td>\n",
       "      <td>62.80</td>\n",
       "      <td>4.40</td>\n",
       "      <td>0</td>\n",
       "    </tr>\n",
       "  </tbody>\n",
       "</table>\n",
       "</div>"
      ],
      "text/plain": [
       "      pH  Dureza   Sólidos  Cloraminas  Sulfatos  Conductividad  \\\n",
       "3   8.32  214.37  22018.42        8.06    356.89         363.27   \n",
       "4   9.09  181.10  17978.99        6.55    310.14         398.41   \n",
       "5   5.58  188.31  28748.69        7.54    326.68         280.47   \n",
       "6  10.22  248.07  28749.72        7.51    393.66         283.65   \n",
       "7   8.64  203.36  13672.09        4.56    303.31         474.61   \n",
       "\n",
       "   Carbono_orgánico  Trihalometanos  Turbidez  Potabilidad  \n",
       "3             18.44          100.34      4.63            0  \n",
       "4             11.56           32.00      4.08            0  \n",
       "5              8.40           54.92      2.56            0  \n",
       "6             13.79           84.60      2.67            0  \n",
       "7             12.36           62.80      4.40            0  "
      ]
     },
     "execution_count": 15,
     "metadata": {},
     "output_type": "execute_result"
    }
   ],
   "source": [
    "# Se visualiza como quedaron los datos\n",
    "df.head()"
   ]
  },
  {
   "cell_type": "code",
   "execution_count": 16,
   "id": "57e8e3c2",
   "metadata": {},
   "outputs": [
    {
     "data": {
      "text/plain": [
       "(2011, 10)"
      ]
     },
     "execution_count": 16,
     "metadata": {},
     "output_type": "execute_result"
    }
   ],
   "source": [
    "# Revisión total de registros actualizados\n",
    "df.shape"
   ]
  },
  {
   "cell_type": "markdown",
   "id": "34975b5d",
   "metadata": {},
   "source": [
    "# 5. Construcción del modelo\n",
    "Los algoritmos supervisados implementados en scikit-learn requieren que las variables de entrada estén separadas de la variable objetivo."
   ]
  },
  {
   "cell_type": "code",
   "execution_count": 17,
   "id": "1d74e359",
   "metadata": {},
   "outputs": [],
   "source": [
    "#S e selecciona la variable objetivo, en este caso \"Potabilidad\"\n",
    "Y = df['Potabilidad']\n",
    "# Del conjunto de datos se elimina la variable \"Potabilidad\"\n",
    "X = df.drop(['Potabilidad'], axis=1)"
   ]
  },
  {
   "cell_type": "code",
   "execution_count": 18,
   "id": "0d8de17b",
   "metadata": {},
   "outputs": [],
   "source": [
    "# Se realiza la divisón entrenamiento - test. Se deja el 20% de los datos para el test\n",
    "X_train, X_test, Y_train, Y_test = train_test_split(X, Y, test_size = 0.2 , random_state = 0)"
   ]
  },
  {
   "cell_type": "code",
   "execution_count": 19,
   "id": "542f8d96",
   "metadata": {},
   "outputs": [
    {
     "data": {
      "text/html": [
       "<style>#sk-container-id-1 {color: black;background-color: white;}#sk-container-id-1 pre{padding: 0;}#sk-container-id-1 div.sk-toggleable {background-color: white;}#sk-container-id-1 label.sk-toggleable__label {cursor: pointer;display: block;width: 100%;margin-bottom: 0;padding: 0.3em;box-sizing: border-box;text-align: center;}#sk-container-id-1 label.sk-toggleable__label-arrow:before {content: \"▸\";float: left;margin-right: 0.25em;color: #696969;}#sk-container-id-1 label.sk-toggleable__label-arrow:hover:before {color: black;}#sk-container-id-1 div.sk-estimator:hover label.sk-toggleable__label-arrow:before {color: black;}#sk-container-id-1 div.sk-toggleable__content {max-height: 0;max-width: 0;overflow: hidden;text-align: left;background-color: #f0f8ff;}#sk-container-id-1 div.sk-toggleable__content pre {margin: 0.2em;color: black;border-radius: 0.25em;background-color: #f0f8ff;}#sk-container-id-1 input.sk-toggleable__control:checked~div.sk-toggleable__content {max-height: 200px;max-width: 100%;overflow: auto;}#sk-container-id-1 input.sk-toggleable__control:checked~label.sk-toggleable__label-arrow:before {content: \"▾\";}#sk-container-id-1 div.sk-estimator input.sk-toggleable__control:checked~label.sk-toggleable__label {background-color: #d4ebff;}#sk-container-id-1 div.sk-label input.sk-toggleable__control:checked~label.sk-toggleable__label {background-color: #d4ebff;}#sk-container-id-1 input.sk-hidden--visually {border: 0;clip: rect(1px 1px 1px 1px);clip: rect(1px, 1px, 1px, 1px);height: 1px;margin: -1px;overflow: hidden;padding: 0;position: absolute;width: 1px;}#sk-container-id-1 div.sk-estimator {font-family: monospace;background-color: #f0f8ff;border: 1px dotted black;border-radius: 0.25em;box-sizing: border-box;margin-bottom: 0.5em;}#sk-container-id-1 div.sk-estimator:hover {background-color: #d4ebff;}#sk-container-id-1 div.sk-parallel-item::after {content: \"\";width: 100%;border-bottom: 1px solid gray;flex-grow: 1;}#sk-container-id-1 div.sk-label:hover label.sk-toggleable__label {background-color: #d4ebff;}#sk-container-id-1 div.sk-serial::before {content: \"\";position: absolute;border-left: 1px solid gray;box-sizing: border-box;top: 0;bottom: 0;left: 50%;z-index: 0;}#sk-container-id-1 div.sk-serial {display: flex;flex-direction: column;align-items: center;background-color: white;padding-right: 0.2em;padding-left: 0.2em;position: relative;}#sk-container-id-1 div.sk-item {position: relative;z-index: 1;}#sk-container-id-1 div.sk-parallel {display: flex;align-items: stretch;justify-content: center;background-color: white;position: relative;}#sk-container-id-1 div.sk-item::before, #sk-container-id-1 div.sk-parallel-item::before {content: \"\";position: absolute;border-left: 1px solid gray;box-sizing: border-box;top: 0;bottom: 0;left: 50%;z-index: -1;}#sk-container-id-1 div.sk-parallel-item {display: flex;flex-direction: column;z-index: 1;position: relative;background-color: white;}#sk-container-id-1 div.sk-parallel-item:first-child::after {align-self: flex-end;width: 50%;}#sk-container-id-1 div.sk-parallel-item:last-child::after {align-self: flex-start;width: 50%;}#sk-container-id-1 div.sk-parallel-item:only-child::after {width: 0;}#sk-container-id-1 div.sk-dashed-wrapped {border: 1px dashed gray;margin: 0 0.4em 0.5em 0.4em;box-sizing: border-box;padding-bottom: 0.4em;background-color: white;}#sk-container-id-1 div.sk-label label {font-family: monospace;font-weight: bold;display: inline-block;line-height: 1.2em;}#sk-container-id-1 div.sk-label-container {text-align: center;}#sk-container-id-1 div.sk-container {/* jupyter's `normalize.less` sets `[hidden] { display: none; }` but bootstrap.min.css set `[hidden] { display: none !important; }` so we also need the `!important` here to be able to override the default hidden behavior on the sphinx rendered scikit-learn.org. See: https://github.com/scikit-learn/scikit-learn/issues/21755 */display: inline-block !important;position: relative;}#sk-container-id-1 div.sk-text-repr-fallback {display: none;}</style><div id=\"sk-container-id-1\" class=\"sk-top-container\"><div class=\"sk-text-repr-fallback\"><pre>DecisionTreeClassifier(criterion=&#x27;entropy&#x27;, random_state=0)</pre><b>In a Jupyter environment, please rerun this cell to show the HTML representation or trust the notebook. <br />On GitHub, the HTML representation is unable to render, please try loading this page with nbviewer.org.</b></div><div class=\"sk-container\" hidden><div class=\"sk-item\"><div class=\"sk-estimator sk-toggleable\"><input class=\"sk-toggleable__control sk-hidden--visually\" id=\"sk-estimator-id-1\" type=\"checkbox\" checked><label for=\"sk-estimator-id-1\" class=\"sk-toggleable__label sk-toggleable__label-arrow\">DecisionTreeClassifier</label><div class=\"sk-toggleable__content\"><pre>DecisionTreeClassifier(criterion=&#x27;entropy&#x27;, random_state=0)</pre></div></div></div></div></div>"
      ],
      "text/plain": [
       "DecisionTreeClassifier(criterion='entropy', random_state=0)"
      ]
     },
     "execution_count": 19,
     "metadata": {},
     "output_type": "execute_result"
    }
   ],
   "source": [
    "# Creación del objeto de árbol de decisión. Se usa como criterio de pureza la entropía.\n",
    "arbol = DecisionTreeClassifier(criterion='entropy', random_state = 0)\n",
    "arbol"
   ]
  },
  {
   "cell_type": "code",
   "execution_count": 20,
   "id": "d33126ee",
   "metadata": {},
   "outputs": [],
   "source": [
    "# Entrenamiento del modelo de árbol de decisión con los datos de entrenamiento.\n",
    "arbol = arbol.fit(X_train, Y_train)"
   ]
  },
  {
   "cell_type": "code",
   "execution_count": 21,
   "id": "a9ad1d40",
   "metadata": {},
   "outputs": [
    {
     "name": "stdout",
     "output_type": "stream",
     "text": [
      "Exactitud: 0.60\n"
     ]
    }
   ],
   "source": [
    "# Se puede determinar la exactitud del modelo sobre los datos del test, para así determinar su rendimiento de generalización\n",
    "y_pred = arbol.predict(X_test)\n",
    "print('Exactitud: %.2f' % accuracy_score(Y_test, y_pred))"
   ]
  },
  {
   "cell_type": "markdown",
   "id": "cb8e4cbe",
   "metadata": {},
   "source": [
    "# 6. Interpretación del modelo\n",
    "Se puede determinar cuáles atributos son los más importantes a partir del modelo generado. Es importante recordar que estos algoritmos realizan una selección en cada paso de construcción del árbol con base en la medida de pureza"
   ]
  },
  {
   "cell_type": "code",
   "execution_count": 22,
   "id": "722c2c9d",
   "metadata": {},
   "outputs": [
    {
     "data": {
      "text/plain": [
       "array([0.15260849, 0.10501019, 0.1270941 , 0.12045472, 0.17096419,\n",
       "       0.07288819, 0.0968566 , 0.11027205, 0.04385147])"
      ]
     },
     "execution_count": 22,
     "metadata": {},
     "output_type": "execute_result"
    }
   ],
   "source": [
    "# Obtener la importancia de las variables. Para esto se puede usar uno de los atributos del modelo \"feature_importances_\", el\n",
    "# cual nos devuelve un coeficiente o peso para cada atributo: mientra más grande sea este más importante será la variable\n",
    "# asociada.\n",
    "importancia = arbol.feature_importances_\n",
    "importancia"
   ]
  },
  {
   "cell_type": "markdown",
   "id": "867705c6",
   "metadata": {},
   "source": [
    "También se pueden organizar y tabular estos coeficientes para facilitar la interpretación."
   ]
  },
  {
   "cell_type": "code",
   "execution_count": 23,
   "id": "c56c22f2",
   "metadata": {},
   "outputs": [
    {
     "data": {
      "text/html": [
       "<div>\n",
       "<style scoped>\n",
       "    .dataframe tbody tr th:only-of-type {\n",
       "        vertical-align: middle;\n",
       "    }\n",
       "\n",
       "    .dataframe tbody tr th {\n",
       "        vertical-align: top;\n",
       "    }\n",
       "\n",
       "    .dataframe thead th {\n",
       "        text-align: right;\n",
       "    }\n",
       "</style>\n",
       "<table border=\"1\" class=\"dataframe\">\n",
       "  <thead>\n",
       "    <tr style=\"text-align: right;\">\n",
       "      <th></th>\n",
       "      <th>Atributo</th>\n",
       "      <th>Importancia</th>\n",
       "    </tr>\n",
       "  </thead>\n",
       "  <tbody>\n",
       "    <tr>\n",
       "      <th>0</th>\n",
       "      <td>Sulfatos</td>\n",
       "      <td>0.170964</td>\n",
       "    </tr>\n",
       "    <tr>\n",
       "      <th>1</th>\n",
       "      <td>pH</td>\n",
       "      <td>0.152608</td>\n",
       "    </tr>\n",
       "    <tr>\n",
       "      <th>2</th>\n",
       "      <td>Sólidos</td>\n",
       "      <td>0.127094</td>\n",
       "    </tr>\n",
       "    <tr>\n",
       "      <th>3</th>\n",
       "      <td>Cloraminas</td>\n",
       "      <td>0.120455</td>\n",
       "    </tr>\n",
       "    <tr>\n",
       "      <th>4</th>\n",
       "      <td>Trihalometanos</td>\n",
       "      <td>0.110272</td>\n",
       "    </tr>\n",
       "    <tr>\n",
       "      <th>5</th>\n",
       "      <td>Dureza</td>\n",
       "      <td>0.105010</td>\n",
       "    </tr>\n",
       "    <tr>\n",
       "      <th>6</th>\n",
       "      <td>Carbono_orgánico</td>\n",
       "      <td>0.096857</td>\n",
       "    </tr>\n",
       "    <tr>\n",
       "      <th>7</th>\n",
       "      <td>Conductividad</td>\n",
       "      <td>0.072888</td>\n",
       "    </tr>\n",
       "    <tr>\n",
       "      <th>8</th>\n",
       "      <td>Turbidez</td>\n",
       "      <td>0.043851</td>\n",
       "    </tr>\n",
       "  </tbody>\n",
       "</table>\n",
       "</div>"
      ],
      "text/plain": [
       "           Atributo  Importancia\n",
       "0          Sulfatos     0.170964\n",
       "1                pH     0.152608\n",
       "2           Sólidos     0.127094\n",
       "3        Cloraminas     0.120455\n",
       "4    Trihalometanos     0.110272\n",
       "5            Dureza     0.105010\n",
       "6  Carbono_orgánico     0.096857\n",
       "7     Conductividad     0.072888\n",
       "8          Turbidez     0.043851"
      ]
     },
     "execution_count": 23,
     "metadata": {},
     "output_type": "execute_result"
    }
   ],
   "source": [
    "importancia_atributo = pd.DataFrame(data={'Atributo': X_train.columns, 'Importancia': importancia})\n",
    "importancia_atributo = importancia_atributo.sort_values(by='Importancia', ascending=False).reset_index(drop=True)\n",
    "importancia_atributo"
   ]
  },
  {
   "cell_type": "markdown",
   "id": "926847d7",
   "metadata": {},
   "source": [
    "Ahora se procede a graficar el modelo. Por propósitos de visualización y requerimiento se limita la profundidad del árbol a 3."
   ]
  },
  {
   "cell_type": "code",
   "execution_count": 24,
   "id": "aa7e0df2",
   "metadata": {},
   "outputs": [
    {
     "data": {
      "image/png": "[encoded data removed]",
      "text/plain": [
       "<Figure size 1800x720 with 1 Axes>"
      ]
     },
     "metadata": {
      "needs_background": "light"
     },
     "output_type": "display_data"
    }
   ],
   "source": [
    "fig = plt.figure(figsize=(25,10))\n",
    "_ = tree.plot_tree(arbol, max_depth=3, feature_names=X.columns, class_names=[\"0\", \"1\"], filled=True, fontsize=9)"
   ]
  },
  {
   "cell_type": "code",
   "execution_count": 25,
   "id": "0bb7243d",
   "metadata": {},
   "outputs": [],
   "source": [
    "# Se guarda esta figura como una imagen\n",
    "fig.savefig(\"decision_tree_potability.png\")"
   ]
  },
  {
   "cell_type": "markdown",
   "id": "50bf0726",
   "metadata": {},
   "source": [
    "# 7. Búsqueda de hiperparámetros y evaluación.\n"
   ]
  },
  {
   "cell_type": "code",
   "execution_count": 26,
   "id": "c8a7462b",
   "metadata": {},
   "outputs": [
    {
     "data": {
      "text/plain": [
       "array([[164,  88],\n",
       "       [ 72,  79]], dtype=int64)"
      ]
     },
     "execution_count": 26,
     "metadata": {},
     "output_type": "execute_result"
    }
   ],
   "source": [
    "# Se genera la matriz de confusión\n",
    "confusion_matrix(Y_test, y_pred)"
   ]
  },
  {
   "cell_type": "code",
   "execution_count": 27,
   "id": "2005f8af",
   "metadata": {},
   "outputs": [
    {
     "name": "stderr",
     "output_type": "stream",
     "text": [
      "C:\\Users\\felip\\anaconda3\\lib\\site-packages\\sklearn\\utils\\deprecation.py:87: FutureWarning: Function plot_confusion_matrix is deprecated; Function `plot_confusion_matrix` is deprecated in 1.0 and will be removed in 1.2. Use one of the class methods: ConfusionMatrixDisplay.from_predictions or ConfusionMatrixDisplay.from_estimator.\n",
      "  warnings.warn(msg, category=FutureWarning)\n"
     ]
    },
    {
     "data": {
      "image/png": "[encoded data removed]",
      "text/plain": [
       "<Figure size 432x288 with 2 Axes>"
      ]
     },
     "metadata": {
      "needs_background": "light"
     },
     "output_type": "display_data"
    }
   ],
   "source": [
    "# Se visualiza la matriz de confusión\n",
    "plot_confusion_matrix(arbol, X_test, Y_test)\n",
    "plt.show()"
   ]
  },
  {
   "cell_type": "markdown",
   "id": "628cd778",
   "metadata": {},
   "source": [
    "De igual manera, es posible generar diferentes métricas de rendimiento, como el recall, la precisión y la puntuación F1."
   ]
  },
  {
   "cell_type": "code",
   "execution_count": 28,
   "id": "57f7aa8b",
   "metadata": {},
   "outputs": [
    {
     "name": "stdout",
     "output_type": "stream",
     "text": [
      "Exactitud: 0.60\n",
      "Precisión: 0.47305389221556887\n",
      "Recall: 0.5231788079470199\n",
      "Puntuación F1: 0.4968553459119497\n"
     ]
    }
   ],
   "source": [
    "print('Exactitud: %.2f' % accuracy_score(Y_test, y_pred))\n",
    "print('Precisión: {}'.format(precision_score(Y_test, y_pred)))\n",
    "print('Recall: {}'.format(recall_score(Y_test, y_pred)))\n",
    "print('Puntuación F1: {}'.format(f1_score(Y_test, y_pred)))"
   ]
  },
  {
   "cell_type": "markdown",
   "id": "6c80a70e",
   "metadata": {},
   "source": [
    "Para tener un panorama más completo podemos generar un reporte."
   ]
  },
  {
   "cell_type": "code",
   "execution_count": 29,
   "id": "3e15a8d1",
   "metadata": {},
   "outputs": [
    {
     "name": "stdout",
     "output_type": "stream",
     "text": [
      "              precision    recall  f1-score   support\n",
      "\n",
      "           0       0.69      0.65      0.67       252\n",
      "           1       0.47      0.52      0.50       151\n",
      "\n",
      "    accuracy                           0.60       403\n",
      "   macro avg       0.58      0.59      0.58       403\n",
      "weighted avg       0.61      0.60      0.61       403\n",
      "\n"
     ]
    }
   ],
   "source": [
    "# Mostrar reporte de clasificación\n",
    "print(classification_report(Y_test, y_pred))"
   ]
  },
  {
   "cell_type": "markdown",
   "id": "c2b0f159",
   "metadata": {},
   "source": [
    "Se puede apreciar que la medida global ofrece un rendimiento de 60% de clasificaciones correctas y que esta se ve reflejada tanto en la clase mayoritaria como minoritaria (Potabilidad=0 y Potabilidad=1). \n",
    "\n",
    "Sin embargo, se presenta un desbalance entre clases en un conjunto debido a distintas razones, algunas de ellas relacionadas con la naturaleza del problema, donde este desbalance es el resultado directo de las características de la población que genera los datos o el costo y/o dificultad en la obtención de datos de clase de interés.\n",
    "\n",
    "En estos escenarios es importante obtener modelos que exhiban un buen rendimiento de predicción sobre la clase minoritaria ya que esta, por lo general, representa el objetivo o target de la tarea de clasificación. Sin embargo, los algoritmos de aprendizaje tradicionales tenderán a producir una solución que sólo tendrá un buen desempeño sobre la clase mayoritaria. Esto se debe a que están diseñados para inducir un modelo de clasificación basado en el error que comete sobre todo el conjunto de entrenamiento, sin tomar en cuenta la representatividad o balance de las clases.\n",
    "\n",
    "Para resolver este problema se han propuesto diversas estrategias como el remuestreo del conjunto de datos o la construcción de clasificadores que tomen en cuenta el costo de los errores sobre las diferentes clases. En particular, para árboles de decisión, scikit-learn ofrece la posibilidad de indicarle al algoritmo que maneje el desbalance internamente con el parámetro **\"class_weight\"**. Se presenta a continuación:"
   ]
  },
  {
   "cell_type": "markdown",
   "id": "98161f24",
   "metadata": {},
   "source": [
    "# 8. Construcción del modelo con búsqueda de hiperparámetros\n",
    "En el caso de los árboles de decisión los hiperparámetros principales que hay que ajustar están relacionados con aquellos que controlan la complejidad, pero también el criterio o medida de pureza puede afectar su rendimiento. En general, estos son:\n",
    "\n",
    "* **Criterion:** {\"gini\", \"entropy\"}, predeterminado=\"gini\"\n",
    "\n",
    "La función para medir la calidad de una división. Los criterios admitidos son \"gini\" y \"entropy\".\n",
    "\n",
    "* **max_depth:** int, predeterminado=None\n",
    "\n",
    "La profundidad máxima de árbol. Si es None, los nodos se expanden hasta que todas las hojas sean puras o hasta que todas las hojas contengan menos de min_sample_split muestras.\n",
    "\n",
    "* **min_sample_split:** int or float, predeterminado=2\n",
    "\n",
    "El número mínimo de muestras necesarias para dividir un nodo interno.\n",
    "\n",
    "Para determinar los mejores valores de estos hiperparámetros se realiza la búsqueda a través de la función GridSearchCV."
   ]
  },
  {
   "cell_type": "code",
   "execution_count": 30,
   "id": "e558c7b4",
   "metadata": {},
   "outputs": [],
   "source": [
    "# Se fija el número de particiones. Se usa K = 10.\n",
    "particiones = KFold(n_splits=10, shuffle=True, random_state = 0)"
   ]
  },
  {
   "cell_type": "code",
   "execution_count": 31,
   "id": "01a24dbe",
   "metadata": {},
   "outputs": [],
   "source": [
    "# Se establece el espacio de búsqueda para los hiperparámetros que se desean ajustar.\n",
    "param_grid = {'criterion':['gini', 'entropy'],'max_depth':[4,6,8,10,12],'min_samples_split':[3, 4, 5]}"
   ]
  },
  {
   "cell_type": "code",
   "execution_count": 32,
   "id": "56945d8d",
   "metadata": {},
   "outputs": [],
   "source": [
    "# Definimos el modelo sin ningún valor de estos hiperparáemtros\n",
    "arbol = DecisionTreeClassifier(class_weight='balanced', random_state = 0)"
   ]
  },
  {
   "cell_type": "code",
   "execution_count": 33,
   "id": "f78e36bf",
   "metadata": {},
   "outputs": [
    {
     "data": {
      "text/html": [
       "<style>#sk-container-id-2 {color: black;background-color: white;}#sk-container-id-2 pre{padding: 0;}#sk-container-id-2 div.sk-toggleable {background-color: white;}#sk-container-id-2 label.sk-toggleable__label {cursor: pointer;display: block;width: 100%;margin-bottom: 0;padding: 0.3em;box-sizing: border-box;text-align: center;}#sk-container-id-2 label.sk-toggleable__label-arrow:before {content: \"▸\";float: left;margin-right: 0.25em;color: #696969;}#sk-container-id-2 label.sk-toggleable__label-arrow:hover:before {color: black;}#sk-container-id-2 div.sk-estimator:hover label.sk-toggleable__label-arrow:before {color: black;}#sk-container-id-2 div.sk-toggleable__content {max-height: 0;max-width: 0;overflow: hidden;text-align: left;background-color: #f0f8ff;}#sk-container-id-2 div.sk-toggleable__content pre {margin: 0.2em;color: black;border-radius: 0.25em;background-color: #f0f8ff;}#sk-container-id-2 input.sk-toggleable__control:checked~div.sk-toggleable__content {max-height: 200px;max-width: 100%;overflow: auto;}#sk-container-id-2 input.sk-toggleable__control:checked~label.sk-toggleable__label-arrow:before {content: \"▾\";}#sk-container-id-2 div.sk-estimator input.sk-toggleable__control:checked~label.sk-toggleable__label {background-color: #d4ebff;}#sk-container-id-2 div.sk-label input.sk-toggleable__control:checked~label.sk-toggleable__label {background-color: #d4ebff;}#sk-container-id-2 input.sk-hidden--visually {border: 0;clip: rect(1px 1px 1px 1px);clip: rect(1px, 1px, 1px, 1px);height: 1px;margin: -1px;overflow: hidden;padding: 0;position: absolute;width: 1px;}#sk-container-id-2 div.sk-estimator {font-family: monospace;background-color: #f0f8ff;border: 1px dotted black;border-radius: 0.25em;box-sizing: border-box;margin-bottom: 0.5em;}#sk-container-id-2 div.sk-estimator:hover {background-color: #d4ebff;}#sk-container-id-2 div.sk-parallel-item::after {content: \"\";width: 100%;border-bottom: 1px solid gray;flex-grow: 1;}#sk-container-id-2 div.sk-label:hover label.sk-toggleable__label {background-color: #d4ebff;}#sk-container-id-2 div.sk-serial::before {content: \"\";position: absolute;border-left: 1px solid gray;box-sizing: border-box;top: 0;bottom: 0;left: 50%;z-index: 0;}#sk-container-id-2 div.sk-serial {display: flex;flex-direction: column;align-items: center;background-color: white;padding-right: 0.2em;padding-left: 0.2em;position: relative;}#sk-container-id-2 div.sk-item {position: relative;z-index: 1;}#sk-container-id-2 div.sk-parallel {display: flex;align-items: stretch;justify-content: center;background-color: white;position: relative;}#sk-container-id-2 div.sk-item::before, #sk-container-id-2 div.sk-parallel-item::before {content: \"\";position: absolute;border-left: 1px solid gray;box-sizing: border-box;top: 0;bottom: 0;left: 50%;z-index: -1;}#sk-container-id-2 div.sk-parallel-item {display: flex;flex-direction: column;z-index: 1;position: relative;background-color: white;}#sk-container-id-2 div.sk-parallel-item:first-child::after {align-self: flex-end;width: 50%;}#sk-container-id-2 div.sk-parallel-item:last-child::after {align-self: flex-start;width: 50%;}#sk-container-id-2 div.sk-parallel-item:only-child::after {width: 0;}#sk-container-id-2 div.sk-dashed-wrapped {border: 1px dashed gray;margin: 0 0.4em 0.5em 0.4em;box-sizing: border-box;padding-bottom: 0.4em;background-color: white;}#sk-container-id-2 div.sk-label label {font-family: monospace;font-weight: bold;display: inline-block;line-height: 1.2em;}#sk-container-id-2 div.sk-label-container {text-align: center;}#sk-container-id-2 div.sk-container {/* jupyter's `normalize.less` sets `[hidden] { display: none; }` but bootstrap.min.css set `[hidden] { display: none !important; }` so we also need the `!important` here to be able to override the default hidden behavior on the sphinx rendered scikit-learn.org. See: https://github.com/scikit-learn/scikit-learn/issues/21755 */display: inline-block !important;position: relative;}#sk-container-id-2 div.sk-text-repr-fallback {display: none;}</style><div id=\"sk-container-id-2\" class=\"sk-top-container\"><div class=\"sk-text-repr-fallback\"><pre>GridSearchCV(cv=KFold(n_splits=10, random_state=0, shuffle=True),\n",
       "             estimator=DecisionTreeClassifier(class_weight=&#x27;balanced&#x27;,\n",
       "                                              random_state=0),\n",
       "             param_grid={&#x27;criterion&#x27;: [&#x27;gini&#x27;, &#x27;entropy&#x27;],\n",
       "                         &#x27;max_depth&#x27;: [4, 6, 8, 10, 12],\n",
       "                         &#x27;min_samples_split&#x27;: [3, 4, 5]})</pre><b>In a Jupyter environment, please rerun this cell to show the HTML representation or trust the notebook. <br />On GitHub, the HTML representation is unable to render, please try loading this page with nbviewer.org.</b></div><div class=\"sk-container\" hidden><div class=\"sk-item sk-dashed-wrapped\"><div class=\"sk-label-container\"><div class=\"sk-label sk-toggleable\"><input class=\"sk-toggleable__control sk-hidden--visually\" id=\"sk-estimator-id-2\" type=\"checkbox\" ><label for=\"sk-estimator-id-2\" class=\"sk-toggleable__label sk-toggleable__label-arrow\">GridSearchCV</label><div class=\"sk-toggleable__content\"><pre>GridSearchCV(cv=KFold(n_splits=10, random_state=0, shuffle=True),\n",
       "             estimator=DecisionTreeClassifier(class_weight=&#x27;balanced&#x27;,\n",
       "                                              random_state=0),\n",
       "             param_grid={&#x27;criterion&#x27;: [&#x27;gini&#x27;, &#x27;entropy&#x27;],\n",
       "                         &#x27;max_depth&#x27;: [4, 6, 8, 10, 12],\n",
       "                         &#x27;min_samples_split&#x27;: [3, 4, 5]})</pre></div></div></div><div class=\"sk-parallel\"><div class=\"sk-parallel-item\"><div class=\"sk-item\"><div class=\"sk-label-container\"><div class=\"sk-label sk-toggleable\"><input class=\"sk-toggleable__control sk-hidden--visually\" id=\"sk-estimator-id-3\" type=\"checkbox\" ><label for=\"sk-estimator-id-3\" class=\"sk-toggleable__label sk-toggleable__label-arrow\">estimator: DecisionTreeClassifier</label><div class=\"sk-toggleable__content\"><pre>DecisionTreeClassifier(class_weight=&#x27;balanced&#x27;, random_state=0)</pre></div></div></div><div class=\"sk-serial\"><div class=\"sk-item\"><div class=\"sk-estimator sk-toggleable\"><input class=\"sk-toggleable__control sk-hidden--visually\" id=\"sk-estimator-id-4\" type=\"checkbox\" ><label for=\"sk-estimator-id-4\" class=\"sk-toggleable__label sk-toggleable__label-arrow\">DecisionTreeClassifier</label><div class=\"sk-toggleable__content\"><pre>DecisionTreeClassifier(class_weight=&#x27;balanced&#x27;, random_state=0)</pre></div></div></div></div></div></div></div></div></div></div>"
      ],
      "text/plain": [
       "GridSearchCV(cv=KFold(n_splits=10, random_state=0, shuffle=True),\n",
       "             estimator=DecisionTreeClassifier(class_weight='balanced',\n",
       "                                              random_state=0),\n",
       "             param_grid={'criterion': ['gini', 'entropy'],\n",
       "                         'max_depth': [4, 6, 8, 10, 12],\n",
       "                         'min_samples_split': [3, 4, 5]})"
      ]
     },
     "execution_count": 33,
     "metadata": {},
     "output_type": "execute_result"
    }
   ],
   "source": [
    "# Ahora se usa GridSearchCV sobre el grid definido y con 10 particiones en la validación cruzada\n",
    "mejor_modelo = GridSearchCV(arbol, param_grid, cv=particiones)\n",
    "# Se ajusta el modelo\n",
    "mejor_modelo.fit(X_train, Y_train)"
   ]
  },
  {
   "cell_type": "code",
   "execution_count": 34,
   "id": "050ab03f",
   "metadata": {},
   "outputs": [
    {
     "data": {
      "text/plain": [
       "{'criterion': 'gini', 'max_depth': 10, 'min_samples_split': 4}"
      ]
     },
     "execution_count": 34,
     "metadata": {},
     "output_type": "execute_result"
    }
   ],
   "source": [
    "# Se puede observar cuál fue el resultado de la búsqueda (mejores valores de hiperparámetros)\n",
    "mejor_modelo.best_params_"
   ]
  },
  {
   "cell_type": "code",
   "execution_count": 35,
   "id": "0f81b8c9",
   "metadata": {},
   "outputs": [
    {
     "name": "stdout",
     "output_type": "stream",
     "text": [
      "              precision    recall  f1-score   support\n",
      "\n",
      "           0       0.71      0.58      0.64       252\n",
      "           1       0.46      0.61      0.53       151\n",
      "\n",
      "    accuracy                           0.59       403\n",
      "   macro avg       0.59      0.59      0.58       403\n",
      "weighted avg       0.62      0.59      0.60       403\n",
      "\n"
     ]
    }
   ],
   "source": [
    "# Obtener el mejor modelo\n",
    "modelo_final = mejor_modelo.best_estimator_\n",
    "# Se prueba ahora este modelo sobre el test\n",
    "y_pred = modelo_final.predict(X_test)\n",
    "print(classification_report(Y_test, y_pred))"
   ]
  },
  {
   "cell_type": "code",
   "execution_count": 36,
   "id": "c79c9db0",
   "metadata": {},
   "outputs": [],
   "source": [
    "# Creación del objeto de árbol de decisión. Se usa como criterio de pureza \"gini\" y \"max_depth=10\".\n",
    "arbol = DecisionTreeClassifier(criterion='gini', max_depth=10, random_state = 0)"
   ]
  },
  {
   "cell_type": "code",
   "execution_count": 37,
   "id": "4748c096",
   "metadata": {},
   "outputs": [],
   "source": [
    "# Entrenamiento del modelo de árbol de decisión con los datos de entrenamiento.\n",
    "arbol = arbol.fit(X_train, Y_train)"
   ]
  },
  {
   "cell_type": "code",
   "execution_count": 38,
   "id": "1dfd073d",
   "metadata": {},
   "outputs": [
    {
     "data": {
      "text/plain": [
       "array([0.17234555, 0.17016517, 0.12552169, 0.11502336, 0.2174678 ,\n",
       "       0.06562748, 0.05423384, 0.0326314 , 0.04698372])"
      ]
     },
     "execution_count": 38,
     "metadata": {},
     "output_type": "execute_result"
    }
   ],
   "source": [
    "# Obtener la importancia de las variables. Para esto se puede usar uno de los atributos del modelo \"feature_importances_\", el\n",
    "# cual nos devuelve un coeficiente o peso para cada atributo: mientra más grande sea este más importante será la variable\n",
    "# asociada.\n",
    "importancia = arbol.feature_importances_\n",
    "importancia"
   ]
  },
  {
   "cell_type": "code",
   "execution_count": 39,
   "id": "e435c487",
   "metadata": {},
   "outputs": [
    {
     "data": {
      "text/html": [
       "<div>\n",
       "<style scoped>\n",
       "    .dataframe tbody tr th:only-of-type {\n",
       "        vertical-align: middle;\n",
       "    }\n",
       "\n",
       "    .dataframe tbody tr th {\n",
       "        vertical-align: top;\n",
       "    }\n",
       "\n",
       "    .dataframe thead th {\n",
       "        text-align: right;\n",
       "    }\n",
       "</style>\n",
       "<table border=\"1\" class=\"dataframe\">\n",
       "  <thead>\n",
       "    <tr style=\"text-align: right;\">\n",
       "      <th></th>\n",
       "      <th>Atributo</th>\n",
       "      <th>Importancia</th>\n",
       "    </tr>\n",
       "  </thead>\n",
       "  <tbody>\n",
       "    <tr>\n",
       "      <th>0</th>\n",
       "      <td>Sulfatos</td>\n",
       "      <td>0.217468</td>\n",
       "    </tr>\n",
       "    <tr>\n",
       "      <th>1</th>\n",
       "      <td>pH</td>\n",
       "      <td>0.172346</td>\n",
       "    </tr>\n",
       "    <tr>\n",
       "      <th>2</th>\n",
       "      <td>Dureza</td>\n",
       "      <td>0.170165</td>\n",
       "    </tr>\n",
       "    <tr>\n",
       "      <th>3</th>\n",
       "      <td>Sólidos</td>\n",
       "      <td>0.125522</td>\n",
       "    </tr>\n",
       "    <tr>\n",
       "      <th>4</th>\n",
       "      <td>Cloraminas</td>\n",
       "      <td>0.115023</td>\n",
       "    </tr>\n",
       "    <tr>\n",
       "      <th>5</th>\n",
       "      <td>Conductividad</td>\n",
       "      <td>0.065627</td>\n",
       "    </tr>\n",
       "    <tr>\n",
       "      <th>6</th>\n",
       "      <td>Carbono_orgánico</td>\n",
       "      <td>0.054234</td>\n",
       "    </tr>\n",
       "    <tr>\n",
       "      <th>7</th>\n",
       "      <td>Turbidez</td>\n",
       "      <td>0.046984</td>\n",
       "    </tr>\n",
       "    <tr>\n",
       "      <th>8</th>\n",
       "      <td>Trihalometanos</td>\n",
       "      <td>0.032631</td>\n",
       "    </tr>\n",
       "  </tbody>\n",
       "</table>\n",
       "</div>"
      ],
      "text/plain": [
       "           Atributo  Importancia\n",
       "0          Sulfatos     0.217468\n",
       "1                pH     0.172346\n",
       "2            Dureza     0.170165\n",
       "3           Sólidos     0.125522\n",
       "4        Cloraminas     0.115023\n",
       "5     Conductividad     0.065627\n",
       "6  Carbono_orgánico     0.054234\n",
       "7          Turbidez     0.046984\n",
       "8    Trihalometanos     0.032631"
      ]
     },
     "execution_count": 39,
     "metadata": {},
     "output_type": "execute_result"
    }
   ],
   "source": [
    "importancia_atributo = pd.DataFrame(data={'Atributo': X_train.columns, 'Importancia': importancia})\n",
    "importancia_atributo = importancia_atributo.sort_values(by='Importancia', ascending=False).reset_index(drop=True)\n",
    "importancia_atributo"
   ]
  },
  {
   "cell_type": "markdown",
   "id": "bded67cf",
   "metadata": {},
   "source": [
    "Ahora se procede a graficar el modelo. Por propósitos de visualización y requerimiento se limita la profundidad del árbol a 3."
   ]
  },
  {
   "cell_type": "code",
   "execution_count": 40,
   "id": "fe8f777c",
   "metadata": {},
   "outputs": [
    {
     "data": {
      "image/png": "[encoded data removed]",
      "text/plain": [
       "<Figure size 1800x720 with 1 Axes>"
      ]
     },
     "metadata": {
      "needs_background": "light"
     },
     "output_type": "display_data"
    }
   ],
   "source": [
    "fig = plt.figure(figsize=(25,10))\n",
    "_ = tree.plot_tree(arbol, max_depth=3, feature_names=X.columns, class_names=[\"0\", \"1\"], filled=True, fontsize=9)"
   ]
  },
  {
   "cell_type": "code",
   "execution_count": 41,
   "id": "2e775d40",
   "metadata": {},
   "outputs": [],
   "source": [
    "# Se guarda esta figura como una imagen\n",
    "fig.savefig(\"decision_tree_potability_hyperparameters.png\")"
   ]
  },
  {
   "cell_type": "code",
   "execution_count": 42,
   "id": "a5af6371",
   "metadata": {},
   "outputs": [
    {
     "data": {
      "text/plain": [
       "array([[146, 106],\n",
       "       [ 59,  92]], dtype=int64)"
      ]
     },
     "execution_count": 42,
     "metadata": {},
     "output_type": "execute_result"
    }
   ],
   "source": [
    "# Se genera la matriz de confusión\n",
    "confusion_matrix(Y_test, y_pred)"
   ]
  },
  {
   "cell_type": "code",
   "execution_count": 43,
   "id": "cd223c9f",
   "metadata": {},
   "outputs": [
    {
     "name": "stderr",
     "output_type": "stream",
     "text": [
      "C:\\Users\\felip\\anaconda3\\lib\\site-packages\\sklearn\\utils\\deprecation.py:87: FutureWarning: Function plot_confusion_matrix is deprecated; Function `plot_confusion_matrix` is deprecated in 1.0 and will be removed in 1.2. Use one of the class methods: ConfusionMatrixDisplay.from_predictions or ConfusionMatrixDisplay.from_estimator.\n",
      "  warnings.warn(msg, category=FutureWarning)\n"
     ]
    },
    {
     "data": {
      "image/png": "[encoded data removed]",
      "text/plain": [
       "<Figure size 432x288 with 2 Axes>"
      ]
     },
     "metadata": {
      "needs_background": "light"
     },
     "output_type": "display_data"
    }
   ],
   "source": [
    "# Se visualiza la matriz de confusión\n",
    "plot_confusion_matrix(arbol, X_test, Y_test)\n",
    "plt.show()"
   ]
  },
  {
   "cell_type": "markdown",
   "id": "bf840476",
   "metadata": {},
   "source": [
    "De igual manera, es posible generar diferentes métricas de rendimiento, como el recall, la precisión y la puntuación F1."
   ]
  },
  {
   "cell_type": "code",
   "execution_count": 44,
   "id": "3ea38ef9",
   "metadata": {},
   "outputs": [
    {
     "name": "stdout",
     "output_type": "stream",
     "text": [
      "Exactitud: 0.59\n",
      "Precisión: 0.46464646464646464\n",
      "Recall: 0.609271523178808\n",
      "Puntuación F1: 0.5272206303724929\n"
     ]
    }
   ],
   "source": [
    "print('Exactitud: %.2f' % accuracy_score(Y_test, y_pred))\n",
    "print('Precisión: {}'.format(precision_score(Y_test, y_pred)))\n",
    "print('Recall: {}'.format(recall_score(Y_test, y_pred)))\n",
    "print('Puntuación F1: {}'.format(f1_score(Y_test, y_pred)))"
   ]
  },
  {
   "cell_type": "markdown",
   "id": "e6dbf7ee",
   "metadata": {},
   "source": [
    "# 9. Predicciones y probabilidad\n",
    "Una vez obtenido el modelo de árbol de decisión también podríamos obtener la probabilidad de que un dato sea clasificado como una clase particular."
   ]
  },
  {
   "cell_type": "code",
   "execution_count": 45,
   "id": "5f3d507f",
   "metadata": {},
   "outputs": [],
   "source": [
    "# Por ejemplo, tomemos un dato del conjunto test y apliquemos el método \"predict_proba\".\n",
    "y_pred_test = modelo_final.predict_proba(X_test.iloc[[20]])"
   ]
  },
  {
   "cell_type": "code",
   "execution_count": 46,
   "id": "c434f1b6",
   "metadata": {},
   "outputs": [
    {
     "name": "stdout",
     "output_type": "stream",
     "text": [
      "[[1. 0.]]\n"
     ]
    }
   ],
   "source": [
    "print(y_pred_test)"
   ]
  },
  {
   "cell_type": "code",
   "execution_count": 47,
   "id": "11ae3424",
   "metadata": {},
   "outputs": [
    {
     "data": {
      "text/plain": [
       "array([0, 1])"
      ]
     },
     "execution_count": 47,
     "metadata": {},
     "output_type": "execute_result"
    }
   ],
   "source": [
    "# Para saber el orden de las clases se puede usar el atributo \"classes_\" del modelo:\n",
    "modelo_final.classes_"
   ]
  }
 ],
 "metadata": {
  "kernelspec": {
   "display_name": "Python 3 (ipykernel)",
   "language": "python",
   "name": "python3"
  },
  "language_info": {
   "codemirror_mode": {
    "name": "ipython",
    "version": 3
   },
   "file_extension": ".py",
   "mimetype": "text/x-python",
   "name": "python",
   "nbconvert_exporter": "python",
   "pygments_lexer": "ipython3",
   "version": "3.9.7"
  }
 },
 "nbformat": 4,
 "nbformat_minor": 5
}
